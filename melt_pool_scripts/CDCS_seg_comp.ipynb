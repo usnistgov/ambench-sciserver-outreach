{
 "cells": [
  {
   "cell_type": "markdown",
   "metadata": {},
   "source": [
    "## CDCS_seg_comp"
   ]
  },
  {
   "cell_type": "markdown",
   "metadata": {},
   "source": [
    "This notebook retrieves melt pool images taken with a scanning electron microscope and compares the widths and lengths measured for these melt pools using the chan-vese segmentation algorithm to measurements of the optical images of the melt pools."
   ]
  },
  {
   "cell_type": "code",
   "execution_count": 1,
   "metadata": {},
   "outputs": [],
   "source": [
    "import pandas as py\n",
    "import lxml.etree as et\n",
    "from cdcs import CDCS\n",
    "from urllib import request\n",
    "from skimage import io"
   ]
  },
  {
   "cell_type": "markdown",
   "metadata": {},
   "source": [
    "### 1. Retrieving melt pool images from ambench.nist.gov\n",
    "- more detailed explanations for this process are written in the CDCS_MP notebook\n",
    "- retriving scanning electron microscope images of melt pools taken as part of the grain size (GS) AM-Bench challenge"
   ]
  },
  {
   "cell_type": "code",
   "execution_count": 2,
   "metadata": {},
   "outputs": [
    {
     "data": {
      "text/html": [
       "<div>\n",
       "<style scoped>\n",
       "    .dataframe tbody tr th:only-of-type {\n",
       "        vertical-align: middle;\n",
       "    }\n",
       "\n",
       "    .dataframe tbody tr th {\n",
       "        vertical-align: top;\n",
       "    }\n",
       "\n",
       "    .dataframe thead th {\n",
       "        text-align: right;\n",
       "    }\n",
       "</style>\n",
       "<table border=\"1\" class=\"dataframe\">\n",
       "  <thead>\n",
       "    <tr style=\"text-align: right;\">\n",
       "      <th></th>\n",
       "      <th>id</th>\n",
       "      <th>template</th>\n",
       "      <th>workspace</th>\n",
       "      <th>user_id</th>\n",
       "      <th>title</th>\n",
       "      <th>xml_content</th>\n",
       "      <th>creation_date</th>\n",
       "      <th>last_modification_date</th>\n",
       "      <th>last_change_date</th>\n",
       "      <th>template_title</th>\n",
       "    </tr>\n",
       "  </thead>\n",
       "  <tbody>\n",
       "    <tr>\n",
       "      <th>0</th>\n",
       "      <td>5fb6e80375853f004117ee6a</td>\n",
       "      <td>5fb54ec775853f003743b46f</td>\n",
       "      <td>5fb54c4975853f001635431e</td>\n",
       "      <td>3</td>\n",
       "      <td>AMB2018-02-AMMT-625-TR10-GS.xml</td>\n",
       "      <td>&lt;AMBench2018LB  xmlns:xsi=\"http://www.w3.org/2...</td>\n",
       "      <td>2020-11-19T21:47:47.936000Z</td>\n",
       "      <td>2020-11-19T21:47:47.936000Z</td>\n",
       "      <td>2020-11-19T21:51:27.447000Z</td>\n",
       "      <td>AM-Bench-2018</td>\n",
       "    </tr>\n",
       "    <tr>\n",
       "      <th>1</th>\n",
       "      <td>5fb6e72475853f003a17eb53</td>\n",
       "      <td>5fb54ec775853f003743b46f</td>\n",
       "      <td>5fb54c4975853f001635431e</td>\n",
       "      <td>3</td>\n",
       "      <td>AMB2018-02-AMMT-625-TR5-GS.xml</td>\n",
       "      <td>&lt;AMBench2018LB  xmlns:xsi=\"http://www.w3.org/2...</td>\n",
       "      <td>2020-11-19T21:44:04.965000Z</td>\n",
       "      <td>2020-11-19T21:44:04.965000Z</td>\n",
       "      <td>2020-11-19T21:51:31.807000Z</td>\n",
       "      <td>AM-Bench-2018</td>\n",
       "    </tr>\n",
       "    <tr>\n",
       "      <th>2</th>\n",
       "      <td>5fb6e70775853f003917eb9f</td>\n",
       "      <td>5fb54ec775853f003743b46f</td>\n",
       "      <td>5fb54c4975853f001635431e</td>\n",
       "      <td>3</td>\n",
       "      <td>AMB2018-02-AMMT-625-TR3-GS.xml</td>\n",
       "      <td>&lt;AMBench2018LB  xmlns:xsi=\"http://www.w3.org/2...</td>\n",
       "      <td>2020-11-19T21:43:35.988000Z</td>\n",
       "      <td>2020-11-19T21:43:35.988000Z</td>\n",
       "      <td>2020-11-19T21:51:32.141000Z</td>\n",
       "      <td>AM-Bench-2018</td>\n",
       "    </tr>\n",
       "  </tbody>\n",
       "</table>\n",
       "</div>"
      ],
      "text/plain": [
       "                         id                  template  \\\n",
       "0  5fb6e80375853f004117ee6a  5fb54ec775853f003743b46f   \n",
       "1  5fb6e72475853f003a17eb53  5fb54ec775853f003743b46f   \n",
       "2  5fb6e70775853f003917eb9f  5fb54ec775853f003743b46f   \n",
       "\n",
       "                  workspace user_id                            title  \\\n",
       "0  5fb54c4975853f001635431e       3  AMB2018-02-AMMT-625-TR10-GS.xml   \n",
       "1  5fb54c4975853f001635431e       3   AMB2018-02-AMMT-625-TR5-GS.xml   \n",
       "2  5fb54c4975853f001635431e       3   AMB2018-02-AMMT-625-TR3-GS.xml   \n",
       "\n",
       "                                         xml_content  \\\n",
       "0  <AMBench2018LB  xmlns:xsi=\"http://www.w3.org/2...   \n",
       "1  <AMBench2018LB  xmlns:xsi=\"http://www.w3.org/2...   \n",
       "2  <AMBench2018LB  xmlns:xsi=\"http://www.w3.org/2...   \n",
       "\n",
       "                 creation_date       last_modification_date  \\\n",
       "0  2020-11-19T21:47:47.936000Z  2020-11-19T21:47:47.936000Z   \n",
       "1  2020-11-19T21:44:04.965000Z  2020-11-19T21:44:04.965000Z   \n",
       "2  2020-11-19T21:43:35.988000Z  2020-11-19T21:43:35.988000Z   \n",
       "\n",
       "              last_change_date template_title  \n",
       "0  2020-11-19T21:51:27.447000Z  AM-Bench-2018  \n",
       "1  2020-11-19T21:51:31.807000Z  AM-Bench-2018  \n",
       "2  2020-11-19T21:51:32.141000Z  AM-Bench-2018  "
      ]
     },
     "execution_count": 2,
     "metadata": {},
     "output_type": "execute_result"
    }
   ],
   "source": [
    "keyword='GS'\n",
    "curator = CDCS('https://ambench.nist.gov/', username='') #accessing anonymously\n",
    "df2=curator.query(template='AM-Bench-2018',keyword=keyword) #searching for results with 'GS'\n",
    "df2"
   ]
  },
  {
   "cell_type": "markdown",
   "metadata": {},
   "source": [
    "#### xml_url_find:\n",
    "Parameters:\n",
    "- XML file for one of the ambench.nist.gov datasets in string format\n",
    "- search phrase contained in the file name\n",
    "- file type\n",
    "\n",
    "Returns:\n",
    "- a list containing (0) name of a file, (1) the download url for the file, (2) laser track number, (3) case "
   ]
  },
  {
   "cell_type": "code",
   "execution_count": 3,
   "metadata": {},
   "outputs": [],
   "source": [
    "def xml_url_find(xml,searchphrase,mtype):\n",
    "    root=et.fromstring(xml)\n",
    "    track=root.find('.//TrackNumber')\n",
    "    for element in root.iter('downloadURL'):\n",
    "        u=request.urlopen(element.text)\n",
    "        if searchphrase in u.info().get_filename() and mtype in u.info().get_content_type():\n",
    "            return [u.info().get_filename(),element.text,track.text]"
   ]
  },
  {
   "cell_type": "code",
   "execution_count": 4,
   "metadata": {},
   "outputs": [],
   "source": [
    "#getting SEM MP images\n",
    "searchphrase='AMMT' #returns a list of scikit images\n",
    "mtype='image/png'\n",
    "filename2=[]\n",
    "result2=[]\n",
    "trace2=[]\n",
    "for index in df2.index:\n",
    "    res=xml_url_find(df2.iloc[index]['xml_content'],searchphrase,mtype)\n",
    "    name=res[0]\n",
    "    url=res[1]\n",
    "    track=res[2]\n",
    "    if url==None:\n",
    "        continue\n",
    "    else:\n",
    "        filename2.append(name)\n",
    "        result2.append(io.imread(url)) #reading in the urls using scikit\n",
    "        trace2.append(int(track))"
   ]
  },
  {
   "cell_type": "markdown",
   "metadata": {},
   "source": [
    "### 2. Image visualization and analysis\n",
    "- uses the chan vese segmentation algorithm to isolate the melt pool\n",
    "- converts needed images to black and white\n",
    "- compares measurements from the SEM image analysis to measurements of the optical melt pool images contained in 'MP_measurements.csv' (calculated in CDCS_MP.ipynb)"
   ]
  },
  {
   "cell_type": "code",
   "execution_count": 5,
   "metadata": {},
   "outputs": [],
   "source": [
    "import skimage\n",
    "import numpy as np \n",
    "import matplotlib.pyplot as plt\n",
    "import matplotlib.image as mpimg"
   ]
  },
  {
   "cell_type": "code",
   "execution_count": 6,
   "metadata": {},
   "outputs": [],
   "source": [
    "from skimage import filters\n",
    "from skimage import segmentation\n",
    "from skimage import morphology\n",
    "from skimage import measure"
   ]
  },
  {
   "cell_type": "markdown",
   "metadata": {},
   "source": [
    "#### draw_box_sem\n",
    "This method (1) crops the melt pool images (to reduce runtime), (2) creates an elevation map of the image, (3) applies the Chan-Vese segmentation algorithm to the elevation map, (4) removes smaller regions (eliminates background noise), (5) returns information about the remaining region\n",
    "\n",
    "Parameters:\n",
    "- image to be analyzed\n",
    "\n",
    "Returns:\n",
    "- list of RegionProperties related to the melt pool region"
   ]
  },
  {
   "cell_type": "code",
   "execution_count": 7,
   "metadata": {},
   "outputs": [],
   "source": [
    "def draw_box_sem(image):\n",
    "    clipim=image[250:,:]\n",
    "    elevation_map=filters.sobel(clipim)\n",
    "    blurredim=filters.gaussian(elevation_map, sigma=9)\n",
    "    segments=segmentation.morphological_chan_vese(blurredim,1)\n",
    "    mask=np.array(segments, dtype='bool')\n",
    "    isolateim=morphology.remove_small_objects(mask,100000) #Adjust the second parameter as needed to clear the image of \n",
    "    #unneeded objects\n",
    "    labels=measure.label(isolateim)\n",
    "    object_features=skimage.measure.regionprops(labels)\n",
    "    return object_features"
   ]
  },
  {
   "cell_type": "code",
   "execution_count": 8,
   "metadata": {},
   "outputs": [
    {
     "name": "stderr",
     "output_type": "stream",
     "text": [
      "<ipython-input-8-af7f92e1736a>:6: FutureWarning: Non RGB image conversion is now deprecated. For RGBA images, please use rgb2gray(rgba2rgb(rgb)) instead. In version 0.19, a ValueError will be raised if input image last dimension length is not 3.\n",
      "  im=color.rgb2gray(im)\n"
     ]
    }
   ],
   "source": [
    "from skimage import color\n",
    "depths2=[]\n",
    "widths2=[]\n",
    "for im in result2:\n",
    "    if im.ndim>2: #checks the dimensions of the image - if 3, the image is in color, and must be converted to grayscale\n",
    "        im=color.rgb2gray(im)\n",
    "    objf=draw_box_sem(im)\n",
    "    minr,minc,maxr,maxc=objf[0].bbox\n",
    "    widths2.append(maxc-minc)\n",
    "    depths2.append(maxr-minr)"
   ]
  },
  {
   "cell_type": "code",
   "execution_count": 9,
   "metadata": {},
   "outputs": [],
   "source": [
    "dat2={'width (SEM)':widths2,'depth (SEM)':depths2}"
   ]
  },
  {
   "cell_type": "code",
   "execution_count": 10,
   "metadata": {},
   "outputs": [],
   "source": [
    "dfgs=py.DataFrame(dat2)"
   ]
  },
  {
   "cell_type": "code",
   "execution_count": 11,
   "metadata": {},
   "outputs": [],
   "source": [
    "dfgs['width (SEM)']=dfgs['width (SEM)']*10/641 #convert to microns\n",
    "dfgs['depth (SEM)']=dfgs['depth (SEM)']*10/641"
   ]
  },
  {
   "cell_type": "code",
   "execution_count": 12,
   "metadata": {},
   "outputs": [],
   "source": [
    "dfgs['track']=trace2 #adding track numbers\n",
    "dfgs=dfgs.sort_values(by='track',ignore_index=True) #sort by track\n",
    "dfgs=dfgs.set_index(dfgs['track'])"
   ]
  },
  {
   "cell_type": "code",
   "execution_count": 13,
   "metadata": {},
   "outputs": [
    {
     "data": {
      "text/html": [
       "<div>\n",
       "<style scoped>\n",
       "    .dataframe tbody tr th:only-of-type {\n",
       "        vertical-align: middle;\n",
       "    }\n",
       "\n",
       "    .dataframe tbody tr th {\n",
       "        vertical-align: top;\n",
       "    }\n",
       "\n",
       "    .dataframe thead th {\n",
       "        text-align: right;\n",
       "    }\n",
       "</style>\n",
       "<table border=\"1\" class=\"dataframe\">\n",
       "  <thead>\n",
       "    <tr style=\"text-align: right;\">\n",
       "      <th></th>\n",
       "      <th>width (SEM)</th>\n",
       "      <th>depth (SEM)</th>\n",
       "      <th>track</th>\n",
       "    </tr>\n",
       "    <tr>\n",
       "      <th>track</th>\n",
       "      <th></th>\n",
       "      <th></th>\n",
       "      <th></th>\n",
       "    </tr>\n",
       "  </thead>\n",
       "  <tbody>\n",
       "    <tr>\n",
       "      <th>3</th>\n",
       "      <td>129.921997</td>\n",
       "      <td>36.333853</td>\n",
       "      <td>3</td>\n",
       "    </tr>\n",
       "    <tr>\n",
       "      <th>5</th>\n",
       "      <td>151.138846</td>\n",
       "      <td>46.318253</td>\n",
       "      <td>5</td>\n",
       "    </tr>\n",
       "    <tr>\n",
       "      <th>10</th>\n",
       "      <td>129.921997</td>\n",
       "      <td>36.333853</td>\n",
       "      <td>10</td>\n",
       "    </tr>\n",
       "  </tbody>\n",
       "</table>\n",
       "</div>"
      ],
      "text/plain": [
       "       width (SEM)  depth (SEM)  track\n",
       "track                                 \n",
       "3       129.921997    36.333853      3\n",
       "5       151.138846    46.318253      5\n",
       "10      129.921997    36.333853     10"
      ]
     },
     "execution_count": 13,
     "metadata": {},
     "output_type": "execute_result"
    }
   ],
   "source": [
    "dfgs"
   ]
  },
  {
   "cell_type": "markdown",
   "metadata": {},
   "source": [
    "bringing in optical image data from a csv made with CDCS_MP"
   ]
  },
  {
   "cell_type": "code",
   "execution_count": 14,
   "metadata": {},
   "outputs": [],
   "source": [
    "dfl=py.read_csv('MP_measurements.csv')\n",
    "dfl=dfl.sort_values(by=['track'],ignore_index=True) #sort values based on track\n",
    "dfl=dfl.set_index(dfl['track'])"
   ]
  },
  {
   "cell_type": "markdown",
   "metadata": {},
   "source": [
    "Combining data from optical and SEM measurements and plotting"
   ]
  },
  {
   "cell_type": "code",
   "execution_count": 15,
   "metadata": {},
   "outputs": [],
   "source": [
    "comb=py.concat([dfl,dfgs],axis=1) #combining based on track number"
   ]
  },
  {
   "cell_type": "code",
   "execution_count": 16,
   "metadata": {},
   "outputs": [],
   "source": [
    "comb=comb.fillna(0) #changing null values to 0"
   ]
  },
  {
   "cell_type": "code",
   "execution_count": 17,
   "metadata": {},
   "outputs": [
    {
     "data": {
      "text/html": [
       "<div>\n",
       "<style scoped>\n",
       "    .dataframe tbody tr th:only-of-type {\n",
       "        vertical-align: middle;\n",
       "    }\n",
       "\n",
       "    .dataframe tbody tr th {\n",
       "        vertical-align: top;\n",
       "    }\n",
       "\n",
       "    .dataframe thead th {\n",
       "        text-align: right;\n",
       "    }\n",
       "</style>\n",
       "<table border=\"1\" class=\"dataframe\">\n",
       "  <thead>\n",
       "    <tr style=\"text-align: right;\">\n",
       "      <th></th>\n",
       "      <th>width</th>\n",
       "      <th>depth</th>\n",
       "      <th>track</th>\n",
       "      <th>case</th>\n",
       "      <th>width (SEM)</th>\n",
       "      <th>depth (SEM)</th>\n",
       "      <th>track</th>\n",
       "    </tr>\n",
       "    <tr>\n",
       "      <th>track</th>\n",
       "      <th></th>\n",
       "      <th></th>\n",
       "      <th></th>\n",
       "      <th></th>\n",
       "      <th></th>\n",
       "      <th></th>\n",
       "      <th></th>\n",
       "    </tr>\n",
       "  </thead>\n",
       "  <tbody>\n",
       "    <tr>\n",
       "      <th>1</th>\n",
       "      <td>101.246</td>\n",
       "      <td>31.620</td>\n",
       "      <td>1</td>\n",
       "      <td>C</td>\n",
       "      <td>0.000000</td>\n",
       "      <td>0.000000</td>\n",
       "      <td>0.0</td>\n",
       "    </tr>\n",
       "    <tr>\n",
       "      <th>2</th>\n",
       "      <td>100.936</td>\n",
       "      <td>31.992</td>\n",
       "      <td>2</td>\n",
       "      <td>C</td>\n",
       "      <td>0.000000</td>\n",
       "      <td>0.000000</td>\n",
       "      <td>0.0</td>\n",
       "    </tr>\n",
       "    <tr>\n",
       "      <th>3</th>\n",
       "      <td>99.200</td>\n",
       "      <td>34.100</td>\n",
       "      <td>3</td>\n",
       "      <td>C</td>\n",
       "      <td>129.921997</td>\n",
       "      <td>36.333853</td>\n",
       "      <td>3.0</td>\n",
       "    </tr>\n",
       "    <tr>\n",
       "      <th>4</th>\n",
       "      <td>102.238</td>\n",
       "      <td>35.092</td>\n",
       "      <td>4</td>\n",
       "      <td>C</td>\n",
       "      <td>0.000000</td>\n",
       "      <td>0.000000</td>\n",
       "      <td>0.0</td>\n",
       "    </tr>\n",
       "    <tr>\n",
       "      <th>5</th>\n",
       "      <td>143.406</td>\n",
       "      <td>46.252</td>\n",
       "      <td>5</td>\n",
       "      <td>A</td>\n",
       "      <td>151.138846</td>\n",
       "      <td>46.318253</td>\n",
       "      <td>5.0</td>\n",
       "    </tr>\n",
       "    <tr>\n",
       "      <th>6</th>\n",
       "      <td>156.612</td>\n",
       "      <td>50.034</td>\n",
       "      <td>6</td>\n",
       "      <td>A</td>\n",
       "      <td>0.000000</td>\n",
       "      <td>0.000000</td>\n",
       "      <td>0.0</td>\n",
       "    </tr>\n",
       "    <tr>\n",
       "      <th>7</th>\n",
       "      <td>145.948</td>\n",
       "      <td>44.888</td>\n",
       "      <td>7</td>\n",
       "      <td>A</td>\n",
       "      <td>0.000000</td>\n",
       "      <td>0.000000</td>\n",
       "      <td>0.0</td>\n",
       "    </tr>\n",
       "    <tr>\n",
       "      <th>8</th>\n",
       "      <td>116.002</td>\n",
       "      <td>40.672</td>\n",
       "      <td>8</td>\n",
       "      <td>B</td>\n",
       "      <td>0.000000</td>\n",
       "      <td>0.000000</td>\n",
       "      <td>0.0</td>\n",
       "    </tr>\n",
       "    <tr>\n",
       "      <th>9</th>\n",
       "      <td>98.766</td>\n",
       "      <td>36.146</td>\n",
       "      <td>9</td>\n",
       "      <td>B</td>\n",
       "      <td>0.000000</td>\n",
       "      <td>0.000000</td>\n",
       "      <td>0.0</td>\n",
       "    </tr>\n",
       "    <tr>\n",
       "      <th>10</th>\n",
       "      <td>122.946</td>\n",
       "      <td>38.130</td>\n",
       "      <td>10</td>\n",
       "      <td>B</td>\n",
       "      <td>129.921997</td>\n",
       "      <td>36.333853</td>\n",
       "      <td>10.0</td>\n",
       "    </tr>\n",
       "  </tbody>\n",
       "</table>\n",
       "</div>"
      ],
      "text/plain": [
       "         width   depth  track case  width (SEM)  depth (SEM)  track\n",
       "track                                                              \n",
       "1      101.246  31.620      1    C     0.000000     0.000000    0.0\n",
       "2      100.936  31.992      2    C     0.000000     0.000000    0.0\n",
       "3       99.200  34.100      3    C   129.921997    36.333853    3.0\n",
       "4      102.238  35.092      4    C     0.000000     0.000000    0.0\n",
       "5      143.406  46.252      5    A   151.138846    46.318253    5.0\n",
       "6      156.612  50.034      6    A     0.000000     0.000000    0.0\n",
       "7      145.948  44.888      7    A     0.000000     0.000000    0.0\n",
       "8      116.002  40.672      8    B     0.000000     0.000000    0.0\n",
       "9       98.766  36.146      9    B     0.000000     0.000000    0.0\n",
       "10     122.946  38.130     10    B   129.921997    36.333853   10.0"
      ]
     },
     "execution_count": 17,
     "metadata": {},
     "output_type": "execute_result"
    }
   ],
   "source": [
    "comb"
   ]
  },
  {
   "cell_type": "code",
   "execution_count": 19,
   "metadata": {},
   "outputs": [
    {
     "data": {
      "text/plain": [
       "<AxesSubplot:xlabel='track'>"
      ]
     },
     "execution_count": 19,
     "metadata": {},
     "output_type": "execute_result"
    },
    {
     "data": {
      "image/png": "[encoded data removed]",
      "text/plain": [
       "<Figure size 432x288 with 1 Axes>"
      ]
     },
     "metadata": {
      "needs_background": "light"
     },
     "output_type": "display_data"
    }
   ],
   "source": [
    "comb.plot(y=['width','width (SEM)'],kind='bar')"
   ]
  },
  {
   "cell_type": "code",
   "execution_count": 21,
   "metadata": {},
   "outputs": [
    {
     "data": {
      "text/plain": [
       "<AxesSubplot:xlabel='track'>"
      ]
     },
     "execution_count": 21,
     "metadata": {},
     "output_type": "execute_result"
    },
    {
     "data": {
      "image/png": "[encoded data removed]",
      "text/plain": [
       "<Figure size 432x288 with 1 Axes>"
      ]
     },
     "metadata": {
      "needs_background": "light"
     },
     "output_type": "display_data"
    }
   ],
   "source": [
    "comb.plot(y=['depth','depth (SEM)'],kind='bar') "
   ]
  },
  {
   "cell_type": "code",
   "execution_count": null,
   "metadata": {},
   "outputs": [],
   "source": []
  }
 ],
 "metadata": {
  "kernelspec": {
   "display_name": "Python 3.8 (py38)",
   "language": "python",
   "name": "py38"
  },
  "language_info": {
   "codemirror_mode": {
    "name": "ipython",
    "version": 3
   },
   "file_extension": ".py",
   "mimetype": "text/x-python",
   "name": "python",
   "nbconvert_exporter": "python",
   "pygments_lexer": "ipython3",
   "version": "3.8.5"
  }
 },
 "nbformat": 4,
 "nbformat_minor": 4
}
