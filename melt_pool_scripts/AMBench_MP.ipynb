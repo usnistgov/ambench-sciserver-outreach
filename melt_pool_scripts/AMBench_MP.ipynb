{
 "cells": [
  {
   "cell_type": "markdown",
   "metadata": {},
   "source": [
    "## AMBench_MP"
   ]
  },
  {
   "cell_type": "markdown",
   "metadata": {},
   "source": [
    "This notebook retrieves data from the 'MP_measurements.csv' file created in CDCS_MP.ipynb and queries the NIST Public Data Repository (PDR) for data related to AM-Bench. Plots are made showing the relationships between data from the ambench.nist.gov site and the PDR."
   ]
  },
  {
   "cell_type": "code",
   "execution_count": 4,
   "metadata": {},
   "outputs": [],
   "source": [
    "import pandas as py\n",
    "import matplotlib.pyplot as plt\n",
    "import json"
   ]
  },
  {
   "cell_type": "markdown",
   "metadata": {},
   "source": [
    "### 1. Importing width and depth data measured in CDCS_MP.ipynb\n",
    "- reads the data from MP_measurements.csv into a pandas dataframe\n",
    "- sorts values based on case label"
   ]
  },
  {
   "cell_type": "code",
   "execution_count": 5,
   "metadata": {},
   "outputs": [],
   "source": [
    "dfl=py.read_csv('MP_measurements.csv')\n",
    "dfl=dfl.sort_values(by=['case'],ignore_index=True) "
   ]
  },
  {
   "cell_type": "code",
   "execution_count": 6,
   "metadata": {},
   "outputs": [
    {
     "data": {
      "text/html": [
       "<div>\n",
       "<style scoped>\n",
       "    .dataframe tbody tr th:only-of-type {\n",
       "        vertical-align: middle;\n",
       "    }\n",
       "\n",
       "    .dataframe tbody tr th {\n",
       "        vertical-align: top;\n",
       "    }\n",
       "\n",
       "    .dataframe thead th {\n",
       "        text-align: right;\n",
       "    }\n",
       "</style>\n",
       "<table border=\"1\" class=\"dataframe\">\n",
       "  <thead>\n",
       "    <tr style=\"text-align: right;\">\n",
       "      <th></th>\n",
       "      <th>width</th>\n",
       "      <th>depth</th>\n",
       "      <th>track</th>\n",
       "      <th>case</th>\n",
       "    </tr>\n",
       "  </thead>\n",
       "  <tbody>\n",
       "    <tr>\n",
       "      <th>0</th>\n",
       "      <td>156.612</td>\n",
       "      <td>50.034</td>\n",
       "      <td>6</td>\n",
       "      <td>A</td>\n",
       "    </tr>\n",
       "    <tr>\n",
       "      <th>1</th>\n",
       "      <td>145.948</td>\n",
       "      <td>44.888</td>\n",
       "      <td>7</td>\n",
       "      <td>A</td>\n",
       "    </tr>\n",
       "    <tr>\n",
       "      <th>2</th>\n",
       "      <td>143.406</td>\n",
       "      <td>46.252</td>\n",
       "      <td>5</td>\n",
       "      <td>A</td>\n",
       "    </tr>\n",
       "    <tr>\n",
       "      <th>3</th>\n",
       "      <td>116.002</td>\n",
       "      <td>40.672</td>\n",
       "      <td>8</td>\n",
       "      <td>B</td>\n",
       "    </tr>\n",
       "    <tr>\n",
       "      <th>4</th>\n",
       "      <td>122.946</td>\n",
       "      <td>38.130</td>\n",
       "      <td>10</td>\n",
       "      <td>B</td>\n",
       "    </tr>\n",
       "    <tr>\n",
       "      <th>5</th>\n",
       "      <td>98.766</td>\n",
       "      <td>36.146</td>\n",
       "      <td>9</td>\n",
       "      <td>B</td>\n",
       "    </tr>\n",
       "    <tr>\n",
       "      <th>6</th>\n",
       "      <td>102.238</td>\n",
       "      <td>35.092</td>\n",
       "      <td>4</td>\n",
       "      <td>C</td>\n",
       "    </tr>\n",
       "    <tr>\n",
       "      <th>7</th>\n",
       "      <td>99.200</td>\n",
       "      <td>34.100</td>\n",
       "      <td>3</td>\n",
       "      <td>C</td>\n",
       "    </tr>\n",
       "    <tr>\n",
       "      <th>8</th>\n",
       "      <td>101.246</td>\n",
       "      <td>31.620</td>\n",
       "      <td>1</td>\n",
       "      <td>C</td>\n",
       "    </tr>\n",
       "    <tr>\n",
       "      <th>9</th>\n",
       "      <td>100.936</td>\n",
       "      <td>31.992</td>\n",
       "      <td>2</td>\n",
       "      <td>C</td>\n",
       "    </tr>\n",
       "  </tbody>\n",
       "</table>\n",
       "</div>"
      ],
      "text/plain": [
       "     width   depth  track case\n",
       "0  156.612  50.034      6    A\n",
       "1  145.948  44.888      7    A\n",
       "2  143.406  46.252      5    A\n",
       "3  116.002  40.672      8    B\n",
       "4  122.946  38.130     10    B\n",
       "5   98.766  36.146      9    B\n",
       "6  102.238  35.092      4    C\n",
       "7   99.200  34.100      3    C\n",
       "8  101.246  31.620      1    C\n",
       "9  100.936  31.992      2    C"
      ]
     },
     "execution_count": 6,
     "metadata": {},
     "output_type": "execute_result"
    }
   ],
   "source": [
    "dfl"
   ]
  },
  {
   "cell_type": "markdown",
   "metadata": {},
   "source": [
    "### 2. Importing data from PDR\n",
    "- uses the PDR API to return datasets relating to the searchphrase 'ambench' (returns two results)\n",
    "- collects returned data in a pandas dataframe, and displays the titles, dois, and ediids of the results\n",
    "- obtains the second dataset and reads one of the files (an excel file with summary data) into a dataframe and sorts based on case"
   ]
  },
  {
   "cell_type": "code",
   "execution_count": 7,
   "metadata": {},
   "outputs": [
    {
     "data": {
      "text/html": [
       "<div>\n",
       "<style scoped>\n",
       "    .dataframe tbody tr th:only-of-type {\n",
       "        vertical-align: middle;\n",
       "    }\n",
       "\n",
       "    .dataframe tbody tr th {\n",
       "        vertical-align: top;\n",
       "    }\n",
       "\n",
       "    .dataframe thead th {\n",
       "        text-align: right;\n",
       "    }\n",
       "</style>\n",
       "<table border=\"1\" class=\"dataframe\">\n",
       "  <thead>\n",
       "    <tr style=\"text-align: right;\">\n",
       "      <th></th>\n",
       "      <th>title</th>\n",
       "      <th>doi</th>\n",
       "      <th>ediid</th>\n",
       "    </tr>\n",
       "  </thead>\n",
       "  <tbody>\n",
       "    <tr>\n",
       "      <th>0</th>\n",
       "      <td>In situ thermography of the metal bridge struc...</td>\n",
       "      <td>doi:10.18434/M31935</td>\n",
       "      <td>6F0C74FF99CC53D5E05324570681FA761935</td>\n",
       "    </tr>\n",
       "    <tr>\n",
       "      <th>1</th>\n",
       "      <td>In Situ Thermography  of Single Scan Tracks Pe...</td>\n",
       "      <td>doi:10.18434/M31931</td>\n",
       "      <td>6D6EC9B3A4147BE2E05324570681EEC91931</td>\n",
       "    </tr>\n",
       "  </tbody>\n",
       "</table>\n",
       "</div>"
      ],
      "text/plain": [
       "                                               title                  doi  \\\n",
       "0  In situ thermography of the metal bridge struc...  doi:10.18434/M31935   \n",
       "1  In Situ Thermography  of Single Scan Tracks Pe...  doi:10.18434/M31931   \n",
       "\n",
       "                                  ediid  \n",
       "0  6F0C74FF99CC53D5E05324570681FA761935  \n",
       "1  6D6EC9B3A4147BE2E05324570681EEC91931  "
      ]
     },
     "execution_count": 7,
     "metadata": {},
     "output_type": "execute_result"
    }
   ],
   "source": [
    "qy=!(curl --silent GET \"https://data.nist.gov/rmm/records?searchphrase='ambench'\" -H \"accept application/json\")\n",
    "qyjson=json.loads(qy[0])\n",
    "dfr=py.DataFrame(qyjson['ResultData'])\n",
    "dfr[['title','doi','ediid']]"
   ]
  },
  {
   "cell_type": "code",
   "execution_count": 9,
   "metadata": {},
   "outputs": [],
   "source": [
    "urlget=qyjson['ResultData'][1]['components'][1]['downloadURL'] #obtaining the second result, looking in 'components' (files)\n",
    "# for the second file's download url\n",
    "dfu=py.read_excel(urlget, usecols=\"Q:AG\",skiprows=14,header=None)\n",
    "#labeling columns by hand\n",
    "headers=['label','case','power (W)','speed (mm/s)','Line','# of frames with a melt pool','# of frames solidus is evident','Solidus (mean)','Soldius(+-1stdev)','Emissivity (mean)','Emissivity (+-1stdev)','MP Length (mean)','MP Length (+-1stdev)','cooling rate (mean, 1290-1190C)','cooling rate (+-1stdev, 1290-1190C)','cooling rate','cooling rate']\n",
    "dfu.columns=headers"
   ]
  },
  {
   "cell_type": "code",
   "execution_count": 10,
   "metadata": {},
   "outputs": [],
   "source": [
    "dfu=dfu.sort_values(by=['case'],ignore_index=True) #Line is the same as track in the CDCS - sorting by line to ensure it\n",
    "#matches with the CDCS measurements"
   ]
  },
  {
   "cell_type": "code",
   "execution_count": 11,
   "metadata": {},
   "outputs": [
    {
     "data": {
      "text/html": [
       "<div>\n",
       "<style scoped>\n",
       "    .dataframe tbody tr th:only-of-type {\n",
       "        vertical-align: middle;\n",
       "    }\n",
       "\n",
       "    .dataframe tbody tr th {\n",
       "        vertical-align: top;\n",
       "    }\n",
       "\n",
       "    .dataframe thead th {\n",
       "        text-align: right;\n",
       "    }\n",
       "</style>\n",
       "<table border=\"1\" class=\"dataframe\">\n",
       "  <thead>\n",
       "    <tr style=\"text-align: right;\">\n",
       "      <th></th>\n",
       "      <th>label</th>\n",
       "      <th>case</th>\n",
       "      <th>power (W)</th>\n",
       "      <th>speed (mm/s)</th>\n",
       "      <th>Line</th>\n",
       "      <th># of frames with a melt pool</th>\n",
       "      <th># of frames solidus is evident</th>\n",
       "      <th>Solidus (mean)</th>\n",
       "      <th>Soldius(+-1stdev)</th>\n",
       "      <th>Emissivity (mean)</th>\n",
       "      <th>Emissivity (+-1stdev)</th>\n",
       "      <th>MP Length (mean)</th>\n",
       "      <th>MP Length (+-1stdev)</th>\n",
       "      <th>cooling rate (mean, 1290-1190C)</th>\n",
       "      <th>cooling rate (+-1stdev, 1290-1190C)</th>\n",
       "      <th>cooling rate</th>\n",
       "      <th>cooling rate</th>\n",
       "    </tr>\n",
       "  </thead>\n",
       "  <tbody>\n",
       "    <tr>\n",
       "      <th>0</th>\n",
       "      <td>Case A\\nLine 3</td>\n",
       "      <td>A</td>\n",
       "      <td>150</td>\n",
       "      <td>400</td>\n",
       "      <td>3</td>\n",
       "      <td>54</td>\n",
       "      <td>53</td>\n",
       "      <td>966.221076</td>\n",
       "      <td>7.894847</td>\n",
       "      <td>0.224709</td>\n",
       "      <td>0.010962</td>\n",
       "      <td>0.653649</td>\n",
       "      <td>0.033884</td>\n",
       "      <td>6.207174e+05</td>\n",
       "      <td>71868.008559</td>\n",
       "      <td>5.586616e+05</td>\n",
       "      <td>44573.230264</td>\n",
       "    </tr>\n",
       "    <tr>\n",
       "      <th>1</th>\n",
       "      <td>Case A\\nLine 6</td>\n",
       "      <td>A</td>\n",
       "      <td>150</td>\n",
       "      <td>400</td>\n",
       "      <td>6</td>\n",
       "      <td>51</td>\n",
       "      <td>27</td>\n",
       "      <td>974.617586</td>\n",
       "      <td>6.840134</td>\n",
       "      <td>0.236518</td>\n",
       "      <td>0.009783</td>\n",
       "      <td>0.659939</td>\n",
       "      <td>0.012471</td>\n",
       "      <td>6.581385e+05</td>\n",
       "      <td>94123.132697</td>\n",
       "      <td>5.835840e+05</td>\n",
       "      <td>59578.504366</td>\n",
       "    </tr>\n",
       "    <tr>\n",
       "      <th>2</th>\n",
       "      <td>Case A\\nLine 9</td>\n",
       "      <td>A</td>\n",
       "      <td>150</td>\n",
       "      <td>400</td>\n",
       "      <td>9</td>\n",
       "      <td>51</td>\n",
       "      <td>49</td>\n",
       "      <td>971.758373</td>\n",
       "      <td>6.673886</td>\n",
       "      <td>0.232432</td>\n",
       "      <td>0.009403</td>\n",
       "      <td>0.664366</td>\n",
       "      <td>0.015155</td>\n",
       "      <td>5.810048e+05</td>\n",
       "      <td>43812.625263</td>\n",
       "      <td>5.352550e+05</td>\n",
       "      <td>25471.964294</td>\n",
       "    </tr>\n",
       "    <tr>\n",
       "      <th>3</th>\n",
       "      <td>Case B\\nLine 2</td>\n",
       "      <td>B</td>\n",
       "      <td>195</td>\n",
       "      <td>800</td>\n",
       "      <td>2</td>\n",
       "      <td>26</td>\n",
       "      <td>25</td>\n",
       "      <td>951.721532</td>\n",
       "      <td>9.062642</td>\n",
       "      <td>0.205221</td>\n",
       "      <td>0.012074</td>\n",
       "      <td>0.778326</td>\n",
       "      <td>0.024662</td>\n",
       "      <td>9.000803e+05</td>\n",
       "      <td>164817.473114</td>\n",
       "      <td>9.334012e+05</td>\n",
       "      <td>92440.706479</td>\n",
       "    </tr>\n",
       "    <tr>\n",
       "      <th>4</th>\n",
       "      <td>Case B\\nLine5</td>\n",
       "      <td>B</td>\n",
       "      <td>195</td>\n",
       "      <td>800</td>\n",
       "      <td>5</td>\n",
       "      <td>26</td>\n",
       "      <td>25</td>\n",
       "      <td>969.622360</td>\n",
       "      <td>9.188065</td>\n",
       "      <td>0.229519</td>\n",
       "      <td>0.012747</td>\n",
       "      <td>0.780684</td>\n",
       "      <td>0.023449</td>\n",
       "      <td>9.513812e+05</td>\n",
       "      <td>144409.181483</td>\n",
       "      <td>9.571681e+05</td>\n",
       "      <td>81631.053375</td>\n",
       "    </tr>\n",
       "    <tr>\n",
       "      <th>5</th>\n",
       "      <td>Case B\\nLine 8</td>\n",
       "      <td>B</td>\n",
       "      <td>195</td>\n",
       "      <td>800</td>\n",
       "      <td>8</td>\n",
       "      <td>10</td>\n",
       "      <td>9</td>\n",
       "      <td>969.530859</td>\n",
       "      <td>6.144837</td>\n",
       "      <td>0.229257</td>\n",
       "      <td>0.008651</td>\n",
       "      <td>0.785878</td>\n",
       "      <td>0.013653</td>\n",
       "      <td>9.525507e+05</td>\n",
       "      <td>110954.494990</td>\n",
       "      <td>9.565544e+05</td>\n",
       "      <td>77406.048189</td>\n",
       "    </tr>\n",
       "    <tr>\n",
       "      <th>6</th>\n",
       "      <td>Case C\\nLine 1</td>\n",
       "      <td>C</td>\n",
       "      <td>195</td>\n",
       "      <td>1200</td>\n",
       "      <td>1</td>\n",
       "      <td>17</td>\n",
       "      <td>11</td>\n",
       "      <td>921.376048</td>\n",
       "      <td>17.567759</td>\n",
       "      <td>0.168581</td>\n",
       "      <td>0.019578</td>\n",
       "      <td>0.756055</td>\n",
       "      <td>0.056129</td>\n",
       "      <td>1.309467e+06</td>\n",
       "      <td>470843.513383</td>\n",
       "      <td>1.379539e+06</td>\n",
       "      <td>321195.694013</td>\n",
       "    </tr>\n",
       "    <tr>\n",
       "      <th>7</th>\n",
       "      <td>Case C\\nLine 4</td>\n",
       "      <td>C</td>\n",
       "      <td>195</td>\n",
       "      <td>1200</td>\n",
       "      <td>4</td>\n",
       "      <td>17</td>\n",
       "      <td>13</td>\n",
       "      <td>950.827516</td>\n",
       "      <td>11.627002</td>\n",
       "      <td>0.204180</td>\n",
       "      <td>0.015217</td>\n",
       "      <td>0.746817</td>\n",
       "      <td>0.036209</td>\n",
       "      <td>1.173340e+06</td>\n",
       "      <td>371325.243746</td>\n",
       "      <td>1.433278e+06</td>\n",
       "      <td>246385.906655</td>\n",
       "    </tr>\n",
       "    <tr>\n",
       "      <th>8</th>\n",
       "      <td>Case C\\nLine 7</td>\n",
       "      <td>C</td>\n",
       "      <td>195</td>\n",
       "      <td>1200</td>\n",
       "      <td>7</td>\n",
       "      <td>17</td>\n",
       "      <td>15</td>\n",
       "      <td>962.543691</td>\n",
       "      <td>13.050242</td>\n",
       "      <td>0.219918</td>\n",
       "      <td>0.018090</td>\n",
       "      <td>0.758148</td>\n",
       "      <td>0.044418</td>\n",
       "      <td>1.401577e+06</td>\n",
       "      <td>371271.587730</td>\n",
       "      <td>1.540218e+06</td>\n",
       "      <td>323215.448826</td>\n",
       "    </tr>\n",
       "    <tr>\n",
       "      <th>9</th>\n",
       "      <td>Case C\\nLine 10</td>\n",
       "      <td>C</td>\n",
       "      <td>195</td>\n",
       "      <td>1200</td>\n",
       "      <td>10</td>\n",
       "      <td>16</td>\n",
       "      <td>13</td>\n",
       "      <td>942.716193</td>\n",
       "      <td>18.568067</td>\n",
       "      <td>0.194330</td>\n",
       "      <td>0.024272</td>\n",
       "      <td>0.754246</td>\n",
       "      <td>0.045674</td>\n",
       "      <td>1.253445e+06</td>\n",
       "      <td>313206.883521</td>\n",
       "      <td>1.338532e+06</td>\n",
       "      <td>241686.792556</td>\n",
       "    </tr>\n",
       "  </tbody>\n",
       "</table>\n",
       "</div>"
      ],
      "text/plain": [
       "             label case  power (W)  speed (mm/s)  Line  \\\n",
       "0   Case A\\nLine 3    A        150           400     3   \n",
       "1   Case A\\nLine 6    A        150           400     6   \n",
       "2   Case A\\nLine 9    A        150           400     9   \n",
       "3   Case B\\nLine 2    B        195           800     2   \n",
       "4    Case B\\nLine5    B        195           800     5   \n",
       "5   Case B\\nLine 8    B        195           800     8   \n",
       "6   Case C\\nLine 1    C        195          1200     1   \n",
       "7   Case C\\nLine 4    C        195          1200     4   \n",
       "8   Case C\\nLine 7    C        195          1200     7   \n",
       "9  Case C\\nLine 10    C        195          1200    10   \n",
       "\n",
       "   # of frames with a melt pool  # of frames solidus is evident  \\\n",
       "0                            54                              53   \n",
       "1                            51                              27   \n",
       "2                            51                              49   \n",
       "3                            26                              25   \n",
       "4                            26                              25   \n",
       "5                            10                               9   \n",
       "6                            17                              11   \n",
       "7                            17                              13   \n",
       "8                            17                              15   \n",
       "9                            16                              13   \n",
       "\n",
       "   Solidus (mean)  Soldius(+-1stdev)  Emissivity (mean)  \\\n",
       "0      966.221076           7.894847           0.224709   \n",
       "1      974.617586           6.840134           0.236518   \n",
       "2      971.758373           6.673886           0.232432   \n",
       "3      951.721532           9.062642           0.205221   \n",
       "4      969.622360           9.188065           0.229519   \n",
       "5      969.530859           6.144837           0.229257   \n",
       "6      921.376048          17.567759           0.168581   \n",
       "7      950.827516          11.627002           0.204180   \n",
       "8      962.543691          13.050242           0.219918   \n",
       "9      942.716193          18.568067           0.194330   \n",
       "\n",
       "   Emissivity (+-1stdev)  MP Length (mean)  MP Length (+-1stdev)  \\\n",
       "0               0.010962          0.653649              0.033884   \n",
       "1               0.009783          0.659939              0.012471   \n",
       "2               0.009403          0.664366              0.015155   \n",
       "3               0.012074          0.778326              0.024662   \n",
       "4               0.012747          0.780684              0.023449   \n",
       "5               0.008651          0.785878              0.013653   \n",
       "6               0.019578          0.756055              0.056129   \n",
       "7               0.015217          0.746817              0.036209   \n",
       "8               0.018090          0.758148              0.044418   \n",
       "9               0.024272          0.754246              0.045674   \n",
       "\n",
       "   cooling rate (mean, 1290-1190C)  cooling rate (+-1stdev, 1290-1190C)  \\\n",
       "0                     6.207174e+05                         71868.008559   \n",
       "1                     6.581385e+05                         94123.132697   \n",
       "2                     5.810048e+05                         43812.625263   \n",
       "3                     9.000803e+05                        164817.473114   \n",
       "4                     9.513812e+05                        144409.181483   \n",
       "5                     9.525507e+05                        110954.494990   \n",
       "6                     1.309467e+06                        470843.513383   \n",
       "7                     1.173340e+06                        371325.243746   \n",
       "8                     1.401577e+06                        371271.587730   \n",
       "9                     1.253445e+06                        313206.883521   \n",
       "\n",
       "   cooling rate   cooling rate  \n",
       "0  5.586616e+05   44573.230264  \n",
       "1  5.835840e+05   59578.504366  \n",
       "2  5.352550e+05   25471.964294  \n",
       "3  9.334012e+05   92440.706479  \n",
       "4  9.571681e+05   81631.053375  \n",
       "5  9.565544e+05   77406.048189  \n",
       "6  1.379539e+06  321195.694013  \n",
       "7  1.433278e+06  246385.906655  \n",
       "8  1.540218e+06  323215.448826  \n",
       "9  1.338532e+06  241686.792556  "
      ]
     },
     "execution_count": 11,
     "metadata": {},
     "output_type": "execute_result"
    }
   ],
   "source": [
    "dfu"
   ]
  },
  {
   "cell_type": "markdown",
   "metadata": {},
   "source": [
    "### 3. Plotting data"
   ]
  },
  {
   "cell_type": "code",
   "execution_count": 10,
   "metadata": {},
   "outputs": [],
   "source": [
    "#Note - it looks like the PDR data is covering a different set of tracks from the CDCS. Still keeping this here for future\n",
    "#reference."
   ]
  },
  {
   "cell_type": "code",
   "execution_count": 22,
   "metadata": {},
   "outputs": [],
   "source": [
    "dft=py.DataFrame([dfl['track'],dfl['width'],dfl['depth'],dfu['power (W)'],dfu['speed (mm/s)'],dfu['case']]) #making a dataframe of selected\n",
    "#columns"
   ]
  },
  {
   "cell_type": "code",
   "execution_count": 23,
   "metadata": {},
   "outputs": [
    {
     "data": {
      "text/html": [
       "<div>\n",
       "<style scoped>\n",
       "    .dataframe tbody tr th:only-of-type {\n",
       "        vertical-align: middle;\n",
       "    }\n",
       "\n",
       "    .dataframe tbody tr th {\n",
       "        vertical-align: top;\n",
       "    }\n",
       "\n",
       "    .dataframe thead th {\n",
       "        text-align: right;\n",
       "    }\n",
       "</style>\n",
       "<table border=\"1\" class=\"dataframe\">\n",
       "  <thead>\n",
       "    <tr style=\"text-align: right;\">\n",
       "      <th></th>\n",
       "      <th>track</th>\n",
       "      <th>width</th>\n",
       "      <th>depth</th>\n",
       "      <th>power (W)</th>\n",
       "      <th>speed (mm/s)</th>\n",
       "      <th>case</th>\n",
       "    </tr>\n",
       "  </thead>\n",
       "  <tbody>\n",
       "    <tr>\n",
       "      <th>0</th>\n",
       "      <td>1</td>\n",
       "      <td>101.246</td>\n",
       "      <td>31.62</td>\n",
       "      <td>195</td>\n",
       "      <td>1200</td>\n",
       "      <td>C</td>\n",
       "    </tr>\n",
       "    <tr>\n",
       "      <th>1</th>\n",
       "      <td>2</td>\n",
       "      <td>100.936</td>\n",
       "      <td>31.992</td>\n",
       "      <td>195</td>\n",
       "      <td>1200</td>\n",
       "      <td>C</td>\n",
       "    </tr>\n",
       "    <tr>\n",
       "      <th>2</th>\n",
       "      <td>3</td>\n",
       "      <td>99.2</td>\n",
       "      <td>34.1</td>\n",
       "      <td>195</td>\n",
       "      <td>1200</td>\n",
       "      <td>C</td>\n",
       "    </tr>\n",
       "    <tr>\n",
       "      <th>3</th>\n",
       "      <td>4</td>\n",
       "      <td>102.238</td>\n",
       "      <td>35.092</td>\n",
       "      <td>195</td>\n",
       "      <td>1200</td>\n",
       "      <td>C</td>\n",
       "    </tr>\n",
       "    <tr>\n",
       "      <th>4</th>\n",
       "      <td>5</td>\n",
       "      <td>143.406</td>\n",
       "      <td>46.252</td>\n",
       "      <td>150</td>\n",
       "      <td>400</td>\n",
       "      <td>A</td>\n",
       "    </tr>\n",
       "    <tr>\n",
       "      <th>5</th>\n",
       "      <td>6</td>\n",
       "      <td>156.612</td>\n",
       "      <td>50.034</td>\n",
       "      <td>150</td>\n",
       "      <td>400</td>\n",
       "      <td>A</td>\n",
       "    </tr>\n",
       "    <tr>\n",
       "      <th>6</th>\n",
       "      <td>7</td>\n",
       "      <td>145.948</td>\n",
       "      <td>44.888</td>\n",
       "      <td>150</td>\n",
       "      <td>400</td>\n",
       "      <td>A</td>\n",
       "    </tr>\n",
       "    <tr>\n",
       "      <th>7</th>\n",
       "      <td>8</td>\n",
       "      <td>116.002</td>\n",
       "      <td>40.672</td>\n",
       "      <td>195</td>\n",
       "      <td>800</td>\n",
       "      <td>B</td>\n",
       "    </tr>\n",
       "    <tr>\n",
       "      <th>8</th>\n",
       "      <td>9</td>\n",
       "      <td>98.766</td>\n",
       "      <td>36.146</td>\n",
       "      <td>195</td>\n",
       "      <td>800</td>\n",
       "      <td>B</td>\n",
       "    </tr>\n",
       "    <tr>\n",
       "      <th>9</th>\n",
       "      <td>10</td>\n",
       "      <td>122.946</td>\n",
       "      <td>38.13</td>\n",
       "      <td>195</td>\n",
       "      <td>800</td>\n",
       "      <td>B</td>\n",
       "    </tr>\n",
       "  </tbody>\n",
       "</table>\n",
       "</div>"
      ],
      "text/plain": [
       "  track    width   depth power (W) speed (mm/s) case\n",
       "0     1  101.246   31.62       195         1200    C\n",
       "1     2  100.936  31.992       195         1200    C\n",
       "2     3     99.2    34.1       195         1200    C\n",
       "3     4  102.238  35.092       195         1200    C\n",
       "4     5  143.406  46.252       150          400    A\n",
       "5     6  156.612  50.034       150          400    A\n",
       "6     7  145.948  44.888       150          400    A\n",
       "7     8  116.002  40.672       195          800    B\n",
       "8     9   98.766  36.146       195          800    B\n",
       "9    10  122.946   38.13       195          800    B"
      ]
     },
     "execution_count": 23,
     "metadata": {},
     "output_type": "execute_result"
    }
   ],
   "source": [
    "dft=dft.transpose(copy=True) #index and columns are switched, so switching them back\n",
    "dft=dft.sort_values(by='track',ignore_index=True) #sorting values by track\n",
    "dft"
   ]
  },
  {
   "cell_type": "markdown",
   "metadata": {},
   "source": [
    "Plotting widths ordered by track number, color-coded based on laser speed"
   ]
  },
  {
   "cell_type": "code",
   "execution_count": 20,
   "metadata": {},
   "outputs": [
    {
     "data": {
      "image/png": "[encoded data removed]",
      "text/plain": [
       "<Figure size 432x288 with 1 Axes>"
      ]
     },
     "metadata": {
      "needs_background": "light"
     },
     "output_type": "display_data"
    }
   ],
   "source": [
    "from matplotlib.lines import Line2D\n",
    "dfti=dft\n",
    "barlist=plt.bar(dfti['track'],dfti['width']) #creating a matplotlib bar plot\n",
    "for i in dfti.index: #set the colors of the bars based on speed\n",
    "    if dfti['speed (mm/s)'][i]==1200:\n",
    "        barlist[i].set_color('r')\n",
    "    elif dfti['speed (mm/s)'][i]==800:\n",
    "        barlist[i].set_color('b')\n",
    "    else:\n",
    "        barlist[i].set_color('g')\n",
    "#formatting the legend - creating three lines to correspond with labels\n",
    "plt.legend(handles=[Line2D([0],[0],color='r',lw=4),\n",
    "                Line2D([0],[0],color='b',lw=4),\n",
    "                Line2D([0],[0],color='g',lw=4)],labels=['1200','800','400'],title='laser speed (mm/s)')\n",
    "plt.xlabel('trace number')\n",
    "plt.ylabel('width of melt pool (microns)')\n",
    "plt.xticks(dfti['track'],dfti['track'])\n",
    "plt.show()"
   ]
  },
  {
   "cell_type": "markdown",
   "metadata": {},
   "source": [
    "plotting widths based on track number, colored by laser power"
   ]
  },
  {
   "cell_type": "code",
   "execution_count": 24,
   "metadata": {},
   "outputs": [
    {
     "data": {
      "image/png": "[encoded data removed]",
      "text/plain": [
       "<Figure size 432x288 with 1 Axes>"
      ]
     },
     "metadata": {
      "needs_background": "light"
     },
     "output_type": "display_data"
    }
   ],
   "source": [
    "barlist2=plt.bar(dfti['track'],dfti['width'])\n",
    "for i in dfti.index:\n",
    "    if dfti['power (W)'][i]==195:\n",
    "        barlist2[i].set_color('r')\n",
    "    elif dfti['power (W)'][i]==150:\n",
    "        barlist2[i].set_color('b')\n",
    "plt.legend(handles=[Line2D([0],[0],color='r',lw=4),\n",
    "                Line2D([0],[0],color='b',lw=4)],labels=['195','150'],title='power (W)')\n",
    "plt.xlabel('trace number')\n",
    "plt.ylabel('width of melt pool (microns)')\n",
    "plt.xticks(dfti['track'],dfti['track'])\n",
    "plt.show()"
   ]
  },
  {
   "cell_type": "markdown",
   "metadata": {},
   "source": [
    "Scatterplot of width vs depth"
   ]
  },
  {
   "cell_type": "code",
   "execution_count": 25,
   "metadata": {},
   "outputs": [
    {
     "data": {
      "text/plain": [
       "<AxesSubplot:xlabel='depth', ylabel='width'>"
      ]
     },
     "execution_count": 25,
     "metadata": {},
     "output_type": "execute_result"
    },
    {
     "data": {
      "image/png": "[encoded data removed]",
      "text/plain": [
       "<Figure size 432x288 with 1 Axes>"
      ]
     },
     "metadata": {
      "needs_background": "light"
     },
     "output_type": "display_data"
    }
   ],
   "source": [
    "dftd=dft.sort_values(by=['depth'])\n",
    "dftd.plot(x='depth',y='width',xlabel='depth (microns)',ylabel='width (microns)',kind='scatter') #width vs depth  - pretty good correlation"
   ]
  },
  {
   "cell_type": "markdown",
   "metadata": {},
   "source": [
    "showing just width data from ambench.nist.gov"
   ]
  },
  {
   "cell_type": "code",
   "execution_count": 27,
   "metadata": {},
   "outputs": [
    {
     "data": {
      "text/plain": [
       "<AxesSubplot:xlabel='track number', ylabel='width (microns)'>"
      ]
     },
     "execution_count": 27,
     "metadata": {},
     "output_type": "execute_result"
    },
    {
     "data": {
      "image/png": "[encoded data removed]",
      "text/plain": [
       "<Figure size 432x288 with 1 Axes>"
      ]
     },
     "metadata": {
      "needs_background": "light"
     },
     "output_type": "display_data"
    }
   ],
   "source": [
    "dft.plot(y=['width'],xlabel='track number',ylabel='width (microns)',legend=False,kind='bar') #width vs track # from CDCS images. 0-3 are case 'C', 4-6 are case 'A' and 7-9 are case 'C'"
   ]
  },
  {
   "cell_type": "markdown",
   "metadata": {},
   "source": [
    "showing just depth data from ambench.nist.gov"
   ]
  },
  {
   "cell_type": "code",
   "execution_count": 28,
   "metadata": {},
   "outputs": [
    {
     "data": {
      "text/plain": [
       "<AxesSubplot:xlabel='track number', ylabel='depth (microns)'>"
      ]
     },
     "execution_count": 28,
     "metadata": {},
     "output_type": "execute_result"
    },
    {
     "data": {
      "image/png": "[encoded data removed]",
      "text/plain": [
       "<Figure size 432x288 with 1 Axes>"
      ]
     },
     "metadata": {
      "needs_background": "light"
     },
     "output_type": "display_data"
    }
   ],
   "source": [
    "dft.plot(y=['depth'],xlabel='track number',ylabel='depth (microns)',legend=False,kind='bar') # same as above, but plotting depth"
   ]
  },
  {
   "cell_type": "code",
   "execution_count": null,
   "metadata": {},
   "outputs": [],
   "source": []
  }
 ],
 "metadata": {
  "kernelspec": {
   "display_name": "Python 3.8 (py38)",
   "language": "python",
   "name": "py38"
  },
  "language_info": {
   "codemirror_mode": {
    "name": "ipython",
    "version": 3
   },
   "file_extension": ".py",
   "mimetype": "text/x-python",
   "name": "python",
   "nbconvert_exporter": "python",
   "pygments_lexer": "ipython3",
   "version": "3.8.5"
  }
 },
 "nbformat": 4,
 "nbformat_minor": 4
}
