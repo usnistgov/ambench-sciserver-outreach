{
 "cells": [
  {
   "cell_type": "markdown",
   "metadata": {},
   "source": [
    "## CDCS_MP"
   ]
  },
  {
   "cell_type": "markdown",
   "metadata": {},
   "source": [
    "This notebook obtains and performs some image analysis on optical images taken under bright field (BF) imaging conditions from the ambench.nist.gov database."
   ]
  },
  {
   "cell_type": "code",
   "execution_count": 1,
   "metadata": {},
   "outputs": [],
   "source": [
    "import pandas as py             # a standard Python data processing library\n",
    "import lxml.etree as et\n",
    "from cdcs import CDCS\n",
    "from urllib import request\n",
    "from skimage import io"
   ]
  },
  {
   "cell_type": "markdown",
   "metadata": {},
   "source": [
    "### 1. Importing records from CDCS\n",
    " - uses the CDCS REST API client to search for datasets related to the melt pool (MP) challenge within the ambench.nist.gov   instance\n",
    " - searches the returned datasets for tiff images containing the phrase \"BF\" and collects information about the corresponding track and case for each image\n",
    " - stores image names, image data, track, and case in a pandas dataframe"
   ]
  },
  {
   "cell_type": "markdown",
   "metadata": {},
   "source": [
    "create a CDCS query instance and input a keyword"
   ]
  },
  {
   "cell_type": "code",
   "execution_count": null,
   "metadata": {},
   "outputs": [],
   "source": [
    "keyword='MP'\n",
    "curator = CDCS('https://ambench.nist.gov/', username='') #accessing anonymously\n",
    "df=curator.query(template='AM-Bench-2018',keyword=keyword) #searching for results with the phrase'MP'\n",
    "df #display the dataframe"
   ]
  },
  {
   "cell_type": "markdown",
   "metadata": {},
   "source": [
    "#### xml_url_find:\n",
    "Parameters:\n",
    "- XML file for one of the ambench.nist.gov datasets in string format\n",
    "- search phrase contained in the file name\n",
    "- file type\n",
    "\n",
    "Returns:\n",
    "- a list containing (0) name of a file, (1) the download url for the file, (2) laser track number, (3) case "
   ]
  },
  {
   "cell_type": "code",
   "execution_count": null,
   "metadata": {},
   "outputs": [],
   "source": [
    "def xml_url_find(xml,searchphrase,mtype):\n",
    "    root=et.fromstring(xml)\n",
    "    caseid=root.find('.//TraceID')[0].tag[5]\n",
    "    track=root.find('.//TrackNumber')\n",
    "    for element in root.iter('downloadURL'):\n",
    "        u=request.urlopen(element.text)\n",
    "        if searchphrase in u.info().get_filename() and mtype in u.info().get_content_type(): #looking for searchphrase in\n",
    "            #filename and mtype in file type\n",
    "            name=u.info().get_filename()\n",
    "            url=element.text\n",
    "            return [name,url,track.text,caseid]"
   ]
  },
  {
   "cell_type": "code",
   "execution_count": null,
   "metadata": {},
   "outputs": [],
   "source": [
    "searchphrase='BF' #returns a list of scikit images\n",
    "filename=[]\n",
    "result=[]\n",
    "trace=[]\n",
    "case=[]\n",
    "for index in df.index:\n",
    "    res=xml_url_find(df.iloc[index]['xml_content'],'BF','image/tiff') #giving xml_url_find each xml string and searching for\n",
    "    #tiff files with 'BF' in their name \n",
    "    name=res[0]\n",
    "    url=res[1]\n",
    "    track=res[2]\n",
    "    c=res[3]\n",
    "    if url==None:\n",
    "        continue\n",
    "    else:\n",
    "        filename.append(name)\n",
    "        case.append(c)\n",
    "        result.append(io.imread(url)) #reading in the urls using scikit\n",
    "        trace.append(track)\n",
    "dfres=py.DataFrame({'name':filename,'image':result,'track':trace,'case':case}) #stores images and image names in a dataframe\n",
    "dfres"
   ]
  },
  {
   "cell_type": "markdown",
   "metadata": {},
   "source": [
    "### 2. Image visualization and analysis\n",
    "- using scikit-image to perform image analysis and matplotlib to display images\n",
    "- uses the felzenszwalb image segmentation algorithm to help obtain widths and depths of the melt pools\n",
    "- displays plots of width and depth\n",
    "- stores measurements in a csv file"
   ]
  },
  {
   "cell_type": "code",
   "execution_count": null,
   "metadata": {},
   "outputs": [],
   "source": [
    "import skimage\n",
    "import numpy as np \n",
    "import matplotlib.pyplot as plt\n",
    "import matplotlib.image as mpimg"
   ]
  },
  {
   "cell_type": "markdown",
   "metadata": {},
   "source": [
    "#### draw_box_opt\n",
    "This method (1) crops the melt pool images (to reduce runtime), (2) applies the felzenszwalb segmentation algorithm to the image, (3) removes smaller regions (eliminate some background noise), (4) acquires a table of center coordinates for the remaining regions, (5) measures the distances from centers to the center of the image, (6) finds the index number of the closest region, (7) returns information about the closes region\n",
    "\n",
    "Parameters:\n",
    "- image to be analyzed\n",
    "\n",
    "Returns:\n",
    "- list of RegionProperties related to the melt pool region"
   ]
  },
  {
   "cell_type": "code",
   "execution_count": null,
   "metadata": {},
   "outputs": [],
   "source": [
    "from skimage import filters\n",
    "from skimage import segmentation\n",
    "from skimage import morphology\n",
    "from skimage import measure\n",
    "import math\n",
    "def draw_box_opt(image):\n",
    "    cropim=image[900:1800,800:3400] #cropping so that there's less pixels to cover - incredibly slow if left at original size\n",
    "    segments=segmentation.felzenszwalb(cropim,scale=270,sigma=0.8,min_size=1000)\n",
    "    isolateim=morphology.remove_small_objects(segments,100000)\n",
    "    center=measure.regionprops_table(isolateim,properties=['centroid']) #table of information about the center points of regions\n",
    "    distances=[]\n",
    "    for n in range(len(center['centroid-0'])):\n",
    "        distances.append(math.dist([center['centroid-0'][n],center['centroid-1'][n]],[450,1300]))\n",
    "    index=distances.index(min(distances)) #Looking for the region closest to the center of the image - should be the melt pool\n",
    "    object_features=measure.regionprops(isolateim)\n",
    "    return object_features[index] "
   ]
  },
  {
   "cell_type": "code",
   "execution_count": null,
   "metadata": {},
   "outputs": [],
   "source": [
    "depths=[]\n",
    "widths=[]\n",
    "bboxes=[]\n",
    "for im in dfres['image']:\n",
    "    objf=draw_box_opt(im)\n",
    "    bboxes.append(objf.bbox)\n",
    "    minr,minc,maxr,maxc=objf.bbox #using the bbox drawn around the melt pool to find width and depth\n",
    "    widths.append((maxc-minc)*(0.062)) #using the conversion given in the CDCS comment above the images to convert to mm (1 pixel=0.062 microns)\n",
    "    depths.append((maxr-minr)*(0.062))\n",
    "dat={'width':widths,'depth':depths,'track':trace,'case':case}"
   ]
  },
  {
   "cell_type": "code",
   "execution_count": null,
   "metadata": {},
   "outputs": [],
   "source": [
    "dfmp=py.DataFrame(dat)"
   ]
  },
  {
   "cell_type": "code",
   "execution_count": null,
   "metadata": {},
   "outputs": [],
   "source": [
    "dfmp"
   ]
  },
  {
   "cell_type": "markdown",
   "metadata": {},
   "source": [
    "Bar plot of melt pool widths"
   ]
  },
  {
   "cell_type": "code",
   "execution_count": null,
   "metadata": {},
   "outputs": [],
   "source": [
    "dfmp.plot(y='width',x='track',kind='bar')"
   ]
  },
  {
   "cell_type": "markdown",
   "metadata": {},
   "source": [
    "Bar plot of melt pool depths"
   ]
  },
  {
   "cell_type": "code",
   "execution_count": null,
   "metadata": {},
   "outputs": [],
   "source": [
    "dfmp.plot(y='depth',x='track',kind='bar')"
   ]
  },
  {
   "cell_type": "markdown",
   "metadata": {},
   "source": [
    "Example of what the image looks like with the bbox marked"
   ]
  },
  {
   "cell_type": "code",
   "execution_count": null,
   "metadata": {},
   "outputs": [],
   "source": [
    "fig, ax = plt.subplots()\n",
    "minr,minc,maxr,maxc=bboxes[4]\n",
    "ax.imshow(result[4][900:1800,800:3400])\n",
    "bx = (minc, maxc, maxc, minc, minc)\n",
    "by = (minr, minr, maxr, maxr, minr)\n",
    "ax.plot(bx, by, '-b', linewidth=2.5)\n",
    "plt.show()"
   ]
  },
  {
   "cell_type": "markdown",
   "metadata": {},
   "source": [
    "Putting the calculated measurements into a csv file and saving it"
   ]
  },
  {
   "cell_type": "code",
   "execution_count": null,
   "metadata": {},
   "outputs": [],
   "source": [
    "dfmp.to_csv('MP_measurements.csv',index=False)"
   ]
  },
  {
   "cell_type": "code",
   "execution_count": null,
   "metadata": {},
   "outputs": [],
   "source": []
  }
 ],
 "metadata": {
  "kernelspec": {
   "display_name": "Python 3.8 (py38)",
   "language": "python",
   "name": "py38"
  },
  "language_info": {
   "codemirror_mode": {
    "name": "ipython",
    "version": 3
   },
   "file_extension": ".py",
   "mimetype": "text/x-python",
   "name": "python",
   "nbconvert_exporter": "python",
   "pygments_lexer": "ipython3",
   "version": "3.8.5"
  }
 },
 "nbformat": 4,
 "nbformat_minor": 4
}
