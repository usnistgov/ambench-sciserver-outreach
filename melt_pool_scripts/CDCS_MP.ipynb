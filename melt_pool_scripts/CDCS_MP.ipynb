{
 "cells": [
  {
   "cell_type": "markdown",
   "metadata": {},
   "source": [
    "## CDCS_MP"
   ]
  },
  {
   "cell_type": "markdown",
   "metadata": {},
   "source": [
    "This notebook obtains and performs some image analysis on optical images taken under bright field (BF) imaging conditions from the ambench.nist.gov database."
   ]
  },
  {
   "cell_type": "code",
   "execution_count": 1,
   "metadata": {},
   "outputs": [],
   "source": [
    "import pandas as py             # a standard Python data processing library\n",
    "import lxml.etree as et\n",
    "from cdcs import CDCS\n",
    "from urllib import request\n",
    "from skimage import io"
   ]
  },
  {
   "cell_type": "markdown",
   "metadata": {},
   "source": [
    "### 1. Importing records from CDCS\n",
    " - uses the CDCS REST API client to search for datasets related to the melt pool (MP) challenge within the ambench.nist.gov   instance\n",
    " - searches the returned datasets for tiff images containing the phrase \"BF\" and collects information about the corresponding track and case for each image\n",
    " - stores image names, image data, track, and case in a pandas dataframe"
   ]
  },
  {
   "cell_type": "markdown",
   "metadata": {},
   "source": [
    "create a CDCS query instance and input a keyword"
   ]
  },
  {
   "cell_type": "code",
   "execution_count": 3,
   "metadata": {},
   "outputs": [
    {
     "data": {
      "text/html": [
       "<div>\n",
       "<style scoped>\n",
       "    .dataframe tbody tr th:only-of-type {\n",
       "        vertical-align: middle;\n",
       "    }\n",
       "\n",
       "    .dataframe tbody tr th {\n",
       "        vertical-align: top;\n",
       "    }\n",
       "\n",
       "    .dataframe thead th {\n",
       "        text-align: right;\n",
       "    }\n",
       "</style>\n",
       "<table border=\"1\" class=\"dataframe\">\n",
       "  <thead>\n",
       "    <tr style=\"text-align: right;\">\n",
       "      <th></th>\n",
       "      <th>id</th>\n",
       "      <th>template</th>\n",
       "      <th>workspace</th>\n",
       "      <th>user_id</th>\n",
       "      <th>title</th>\n",
       "      <th>xml_content</th>\n",
       "      <th>creation_date</th>\n",
       "      <th>last_modification_date</th>\n",
       "      <th>last_change_date</th>\n",
       "      <th>template_title</th>\n",
       "    </tr>\n",
       "  </thead>\n",
       "  <tbody>\n",
       "    <tr>\n",
       "      <th>0</th>\n",
       "      <td>5fb6e83975853f003c17ea80</td>\n",
       "      <td>5fb54ec775853f003743b46f</td>\n",
       "      <td>5fb54c4975853f001635431e</td>\n",
       "      <td>3</td>\n",
       "      <td>AMB2018-02-AMMT-625-TR8-MP.xml</td>\n",
       "      <td>&lt;AMBench2018LB  xmlns:xsi=\"http://www.w3.org/2...</td>\n",
       "      <td>2020-11-19T21:48:41.113000Z</td>\n",
       "      <td>2020-11-19T21:48:41.113000Z</td>\n",
       "      <td>2020-11-19T21:51:26.270000Z</td>\n",
       "      <td>AM-Bench-2018</td>\n",
       "    </tr>\n",
       "    <tr>\n",
       "      <th>1</th>\n",
       "      <td>5fb6e82875853f004017efa3</td>\n",
       "      <td>5fb54ec775853f003743b46f</td>\n",
       "      <td>5fb54c4975853f001635431e</td>\n",
       "      <td>3</td>\n",
       "      <td>AMB2018-02-AMMT-625-TR4-MP.xml</td>\n",
       "      <td>&lt;AMBench2018LB  xmlns:xsi=\"http://www.w3.org/2...</td>\n",
       "      <td>2020-11-19T21:48:24.455000Z</td>\n",
       "      <td>2020-11-19T21:48:24.455000Z</td>\n",
       "      <td>2020-11-19T21:51:26.622000Z</td>\n",
       "      <td>AM-Bench-2018</td>\n",
       "    </tr>\n",
       "    <tr>\n",
       "      <th>2</th>\n",
       "      <td>5fb6e80f75853f003917ee11</td>\n",
       "      <td>5fb54ec775853f003743b46f</td>\n",
       "      <td>5fb54c4975853f001635431e</td>\n",
       "      <td>3</td>\n",
       "      <td>AMB2018-02-AMMT-625-TR3-MP.xml</td>\n",
       "      <td>&lt;AMBench2018LB  xmlns:xsi=\"http://www.w3.org/2...</td>\n",
       "      <td>2020-11-19T21:47:59.727000Z</td>\n",
       "      <td>2020-11-19T21:47:59.727000Z</td>\n",
       "      <td>2020-11-19T21:51:27.278000Z</td>\n",
       "      <td>AM-Bench-2018</td>\n",
       "    </tr>\n",
       "    <tr>\n",
       "      <th>3</th>\n",
       "      <td>5fb6e7ed75853f004117ee5a</td>\n",
       "      <td>5fb54ec775853f003743b46f</td>\n",
       "      <td>5fb54c4975853f001635431e</td>\n",
       "      <td>3</td>\n",
       "      <td>AMB2018-02-AMMT-625-TR1-MP.xml</td>\n",
       "      <td>&lt;AMBench2018LB xmlns:xsi=\"http://www.w3.org/20...</td>\n",
       "      <td>2020-11-19T21:47:25.764000Z</td>\n",
       "      <td>2020-11-19T21:47:25.764000Z</td>\n",
       "      <td>2020-11-19T21:51:28.134000Z</td>\n",
       "      <td>AM-Bench-2018</td>\n",
       "    </tr>\n",
       "    <tr>\n",
       "      <th>4</th>\n",
       "      <td>5fb6e7cb75853f003617edf8</td>\n",
       "      <td>5fb54ec775853f003743b46f</td>\n",
       "      <td>5fb54c4975853f001635431e</td>\n",
       "      <td>3</td>\n",
       "      <td>AMB2018-02-AMMT-625-TR6-MP.xml</td>\n",
       "      <td>&lt;AMBench2018LB  xmlns:xsi=\"http://www.w3.org/2...</td>\n",
       "      <td>2020-11-19T21:46:51.808000Z</td>\n",
       "      <td>2020-11-19T21:46:51.808000Z</td>\n",
       "      <td>2020-11-19T21:51:29.140000Z</td>\n",
       "      <td>AM-Bench-2018</td>\n",
       "    </tr>\n",
       "    <tr>\n",
       "      <th>5</th>\n",
       "      <td>5fb6e7ba75853f003f17ed54</td>\n",
       "      <td>5fb54ec775853f003743b46f</td>\n",
       "      <td>5fb54c4975853f001635431e</td>\n",
       "      <td>3</td>\n",
       "      <td>AMB2018-02-AMMT-625-TR10-MP.xml</td>\n",
       "      <td>&lt;AMBench2018LB  xmlns:xsi=\"http://www.w3.org/2...</td>\n",
       "      <td>2020-11-19T21:46:34.543000Z</td>\n",
       "      <td>2020-11-19T21:46:34.543000Z</td>\n",
       "      <td>2020-11-19T21:51:29.466000Z</td>\n",
       "      <td>AM-Bench-2018</td>\n",
       "    </tr>\n",
       "    <tr>\n",
       "      <th>6</th>\n",
       "      <td>5fb6e7ae75853f004617eb2b</td>\n",
       "      <td>5fb54ec775853f003743b46f</td>\n",
       "      <td>5fb54c4975853f001635431e</td>\n",
       "      <td>3</td>\n",
       "      <td>AMB2018-02-AMMT-625-TR2-MP.xml</td>\n",
       "      <td>&lt;AMBench2018LB xmlns:xsi=\"http://www.w3.org/20...</td>\n",
       "      <td>2020-11-19T21:46:22.864000Z</td>\n",
       "      <td>2020-11-19T21:46:22.864000Z</td>\n",
       "      <td>2020-11-19T21:51:29.635000Z</td>\n",
       "      <td>AM-Bench-2018</td>\n",
       "    </tr>\n",
       "    <tr>\n",
       "      <th>7</th>\n",
       "      <td>5fb6e73675853f003d17eaf2</td>\n",
       "      <td>5fb54ec775853f003743b46f</td>\n",
       "      <td>5fb54c4975853f001635431e</td>\n",
       "      <td>3</td>\n",
       "      <td>AMB2018-02-AMMT-625-TR7-MP.xml</td>\n",
       "      <td>&lt;AMBench2018LB  xmlns:xsi=\"http://www.w3.org/2...</td>\n",
       "      <td>2020-11-19T21:44:22.018000Z</td>\n",
       "      <td>2020-11-19T21:44:22.018000Z</td>\n",
       "      <td>2020-11-19T21:51:31.479000Z</td>\n",
       "      <td>AM-Bench-2018</td>\n",
       "    </tr>\n",
       "    <tr>\n",
       "      <th>8</th>\n",
       "      <td>5fb6e6ef75853f003d17ea88</td>\n",
       "      <td>5fb54ec775853f003743b46f</td>\n",
       "      <td>5fb54c4975853f001635431e</td>\n",
       "      <td>3</td>\n",
       "      <td>AMB2018-02-AMMT-625-TR5-MP.xml</td>\n",
       "      <td>&lt;AMBench2018LB  xmlns:xsi=\"http://www.w3.org/2...</td>\n",
       "      <td>2020-11-19T21:43:11.946000Z</td>\n",
       "      <td>2020-11-19T21:43:11.946000Z</td>\n",
       "      <td>2020-11-19T21:51:32.880000Z</td>\n",
       "      <td>AM-Bench-2018</td>\n",
       "    </tr>\n",
       "    <tr>\n",
       "      <th>9</th>\n",
       "      <td>5fb6e6e175853f004317ea6d</td>\n",
       "      <td>5fb54ec775853f003743b46f</td>\n",
       "      <td>5fb54c4975853f001635431e</td>\n",
       "      <td>3</td>\n",
       "      <td>AMB2018-02-AMMT-625-TR9-MP.xml</td>\n",
       "      <td>&lt;AMBench2018LB  xmlns:xsi=\"http://www.w3.org/2...</td>\n",
       "      <td>2020-11-19T21:42:57.612000Z</td>\n",
       "      <td>2020-11-19T21:42:57.612000Z</td>\n",
       "      <td>2020-11-19T21:51:33.045000Z</td>\n",
       "      <td>AM-Bench-2018</td>\n",
       "    </tr>\n",
       "  </tbody>\n",
       "</table>\n",
       "</div>"
      ],
      "text/plain": [
       "                         id                  template  \\\n",
       "0  5fb6e83975853f003c17ea80  5fb54ec775853f003743b46f   \n",
       "1  5fb6e82875853f004017efa3  5fb54ec775853f003743b46f   \n",
       "2  5fb6e80f75853f003917ee11  5fb54ec775853f003743b46f   \n",
       "3  5fb6e7ed75853f004117ee5a  5fb54ec775853f003743b46f   \n",
       "4  5fb6e7cb75853f003617edf8  5fb54ec775853f003743b46f   \n",
       "5  5fb6e7ba75853f003f17ed54  5fb54ec775853f003743b46f   \n",
       "6  5fb6e7ae75853f004617eb2b  5fb54ec775853f003743b46f   \n",
       "7  5fb6e73675853f003d17eaf2  5fb54ec775853f003743b46f   \n",
       "8  5fb6e6ef75853f003d17ea88  5fb54ec775853f003743b46f   \n",
       "9  5fb6e6e175853f004317ea6d  5fb54ec775853f003743b46f   \n",
       "\n",
       "                  workspace user_id                            title  \\\n",
       "0  5fb54c4975853f001635431e       3   AMB2018-02-AMMT-625-TR8-MP.xml   \n",
       "1  5fb54c4975853f001635431e       3   AMB2018-02-AMMT-625-TR4-MP.xml   \n",
       "2  5fb54c4975853f001635431e       3   AMB2018-02-AMMT-625-TR3-MP.xml   \n",
       "3  5fb54c4975853f001635431e       3   AMB2018-02-AMMT-625-TR1-MP.xml   \n",
       "4  5fb54c4975853f001635431e       3   AMB2018-02-AMMT-625-TR6-MP.xml   \n",
       "5  5fb54c4975853f001635431e       3  AMB2018-02-AMMT-625-TR10-MP.xml   \n",
       "6  5fb54c4975853f001635431e       3   AMB2018-02-AMMT-625-TR2-MP.xml   \n",
       "7  5fb54c4975853f001635431e       3   AMB2018-02-AMMT-625-TR7-MP.xml   \n",
       "8  5fb54c4975853f001635431e       3   AMB2018-02-AMMT-625-TR5-MP.xml   \n",
       "9  5fb54c4975853f001635431e       3   AMB2018-02-AMMT-625-TR9-MP.xml   \n",
       "\n",
       "                                         xml_content  \\\n",
       "0  <AMBench2018LB  xmlns:xsi=\"http://www.w3.org/2...   \n",
       "1  <AMBench2018LB  xmlns:xsi=\"http://www.w3.org/2...   \n",
       "2  <AMBench2018LB  xmlns:xsi=\"http://www.w3.org/2...   \n",
       "3  <AMBench2018LB xmlns:xsi=\"http://www.w3.org/20...   \n",
       "4  <AMBench2018LB  xmlns:xsi=\"http://www.w3.org/2...   \n",
       "5  <AMBench2018LB  xmlns:xsi=\"http://www.w3.org/2...   \n",
       "6  <AMBench2018LB xmlns:xsi=\"http://www.w3.org/20...   \n",
       "7  <AMBench2018LB  xmlns:xsi=\"http://www.w3.org/2...   \n",
       "8  <AMBench2018LB  xmlns:xsi=\"http://www.w3.org/2...   \n",
       "9  <AMBench2018LB  xmlns:xsi=\"http://www.w3.org/2...   \n",
       "\n",
       "                 creation_date       last_modification_date  \\\n",
       "0  2020-11-19T21:48:41.113000Z  2020-11-19T21:48:41.113000Z   \n",
       "1  2020-11-19T21:48:24.455000Z  2020-11-19T21:48:24.455000Z   \n",
       "2  2020-11-19T21:47:59.727000Z  2020-11-19T21:47:59.727000Z   \n",
       "3  2020-11-19T21:47:25.764000Z  2020-11-19T21:47:25.764000Z   \n",
       "4  2020-11-19T21:46:51.808000Z  2020-11-19T21:46:51.808000Z   \n",
       "5  2020-11-19T21:46:34.543000Z  2020-11-19T21:46:34.543000Z   \n",
       "6  2020-11-19T21:46:22.864000Z  2020-11-19T21:46:22.864000Z   \n",
       "7  2020-11-19T21:44:22.018000Z  2020-11-19T21:44:22.018000Z   \n",
       "8  2020-11-19T21:43:11.946000Z  2020-11-19T21:43:11.946000Z   \n",
       "9  2020-11-19T21:42:57.612000Z  2020-11-19T21:42:57.612000Z   \n",
       "\n",
       "              last_change_date template_title  \n",
       "0  2020-11-19T21:51:26.270000Z  AM-Bench-2018  \n",
       "1  2020-11-19T21:51:26.622000Z  AM-Bench-2018  \n",
       "2  2020-11-19T21:51:27.278000Z  AM-Bench-2018  \n",
       "3  2020-11-19T21:51:28.134000Z  AM-Bench-2018  \n",
       "4  2020-11-19T21:51:29.140000Z  AM-Bench-2018  \n",
       "5  2020-11-19T21:51:29.466000Z  AM-Bench-2018  \n",
       "6  2020-11-19T21:51:29.635000Z  AM-Bench-2018  \n",
       "7  2020-11-19T21:51:31.479000Z  AM-Bench-2018  \n",
       "8  2020-11-19T21:51:32.880000Z  AM-Bench-2018  \n",
       "9  2020-11-19T21:51:33.045000Z  AM-Bench-2018  "
      ]
     },
     "execution_count": 3,
     "metadata": {},
     "output_type": "execute_result"
    }
   ],
   "source": [
    "keyword='MP'\n",
    "curator = CDCS('https://ambench.nist.gov/', username='') #accessing anonymously\n",
    "df=curator.query(template='AM-Bench-2018',keyword=keyword) #searching for results with the phrase'MP'\n",
    "df #display the dataframe"
   ]
  },
  {
   "cell_type": "markdown",
   "metadata": {},
   "source": [
    "#### xml_url_find:\n",
    "Parameters:\n",
    "- XML file for one of the ambench.nist.gov datasets in string format\n",
    "- search phrase contained in the file name\n",
    "- file type\n",
    "\n",
    "Returns:\n",
    "- a list containing (0) name of a file, (1) the download url for the file, (2) laser track number, (3) case "
   ]
  },
  {
   "cell_type": "code",
   "execution_count": 4,
   "metadata": {},
   "outputs": [],
   "source": [
    "def xml_url_find(xml,searchphrase,mtype):\n",
    "    root=et.fromstring(xml)\n",
    "    caseid=root.find('.//TraceID')[0].tag[5]\n",
    "    track=root.find('.//TrackNumber')\n",
    "    for element in root.iter('downloadURL'):\n",
    "        u=request.urlopen(element.text)\n",
    "        if searchphrase in u.info().get_filename() and mtype in u.info().get_content_type(): #looking for searchphrase in\n",
    "            #filename and mtype in file type\n",
    "            name=u.info().get_filename()\n",
    "            url=element.text\n",
    "            return [name,url,track.text,caseid]"
   ]
  },
  {
   "cell_type": "code",
   "execution_count": 5,
   "metadata": {},
   "outputs": [
    {
     "data": {
      "text/html": [
       "<div>\n",
       "<style scoped>\n",
       "    .dataframe tbody tr th:only-of-type {\n",
       "        vertical-align: middle;\n",
       "    }\n",
       "\n",
       "    .dataframe tbody tr th {\n",
       "        vertical-align: top;\n",
       "    }\n",
       "\n",
       "    .dataframe thead th {\n",
       "        text-align: right;\n",
       "    }\n",
       "</style>\n",
       "<table border=\"1\" class=\"dataframe\">\n",
       "  <thead>\n",
       "    <tr style=\"text-align: right;\">\n",
       "      <th></th>\n",
       "      <th>name</th>\n",
       "      <th>image</th>\n",
       "      <th>track</th>\n",
       "      <th>case</th>\n",
       "    </tr>\n",
       "  </thead>\n",
       "  <tbody>\n",
       "    <tr>\n",
       "      <th>0</th>\n",
       "      <td>AMB18-02-AMMT-Trace08-50xBF-ZStk-EDF.tif</td>\n",
       "      <td>[[[198, 202, 207], [197, 203, 200], [201, 202,...</td>\n",
       "      <td>8</td>\n",
       "      <td>B</td>\n",
       "    </tr>\n",
       "    <tr>\n",
       "      <th>1</th>\n",
       "      <td>AMB18-02-AMMT-Trace04-50xBF-ZStk-EDF.tif</td>\n",
       "      <td>[[[180, 186, 195], [185, 181, 197], [185, 181,...</td>\n",
       "      <td>4</td>\n",
       "      <td>C</td>\n",
       "    </tr>\n",
       "    <tr>\n",
       "      <th>2</th>\n",
       "      <td>AMB18-02-AMMT-Trace03-50xBF-ZStk-EDF.tif</td>\n",
       "      <td>[[[178, 179, 174], [184, 185, 174], [187, 184,...</td>\n",
       "      <td>3</td>\n",
       "      <td>C</td>\n",
       "    </tr>\n",
       "    <tr>\n",
       "      <th>3</th>\n",
       "      <td>AMB18-02-AMMT-Trace01-50xBF-ZStk-EDF.tif</td>\n",
       "      <td>[[[191, 197, 202], [195, 201, 204], [190, 197,...</td>\n",
       "      <td>1</td>\n",
       "      <td>C</td>\n",
       "    </tr>\n",
       "    <tr>\n",
       "      <th>4</th>\n",
       "      <td>AMB18-02-AMMT-Trace06-50xBF-ZStk-EDF.tif</td>\n",
       "      <td>[[[198, 199, 201], [196, 200, 201], [193, 193,...</td>\n",
       "      <td>6</td>\n",
       "      <td>A</td>\n",
       "    </tr>\n",
       "    <tr>\n",
       "      <th>5</th>\n",
       "      <td>AMB18-02-AMMT-Trace10-50xBF-ZStk-EDF.tif</td>\n",
       "      <td>[[[195, 196, 205], [197, 204, 210], [202, 205,...</td>\n",
       "      <td>10</td>\n",
       "      <td>B</td>\n",
       "    </tr>\n",
       "    <tr>\n",
       "      <th>6</th>\n",
       "      <td>AMB18-02-AMMT-Trace02-50xBF-ZStk-EDF.tif</td>\n",
       "      <td>[[[183, 189, 197], [185, 186, 193], [190, 192,...</td>\n",
       "      <td>2</td>\n",
       "      <td>C</td>\n",
       "    </tr>\n",
       "    <tr>\n",
       "      <th>7</th>\n",
       "      <td>AMB18-02-AMMT-Trace07-50xBF-ZStk-EDF.tif</td>\n",
       "      <td>[[[196, 199, 199], [197, 204, 201], [199, 204,...</td>\n",
       "      <td>7</td>\n",
       "      <td>A</td>\n",
       "    </tr>\n",
       "    <tr>\n",
       "      <th>8</th>\n",
       "      <td>AMB18-02-AMMT-Trace05-50xBF-ZStk-EDF.tif</td>\n",
       "      <td>[[[175, 182, 189], [185, 193, 193], [183, 197,...</td>\n",
       "      <td>5</td>\n",
       "      <td>A</td>\n",
       "    </tr>\n",
       "    <tr>\n",
       "      <th>9</th>\n",
       "      <td>AMB18-02-AMMT-Trace09-50xBF-ZStk-EDF.tif</td>\n",
       "      <td>[[[202, 202, 206], [206, 206, 206], [203, 206,...</td>\n",
       "      <td>9</td>\n",
       "      <td>B</td>\n",
       "    </tr>\n",
       "  </tbody>\n",
       "</table>\n",
       "</div>"
      ],
      "text/plain": [
       "                                       name  \\\n",
       "0  AMB18-02-AMMT-Trace08-50xBF-ZStk-EDF.tif   \n",
       "1  AMB18-02-AMMT-Trace04-50xBF-ZStk-EDF.tif   \n",
       "2  AMB18-02-AMMT-Trace03-50xBF-ZStk-EDF.tif   \n",
       "3  AMB18-02-AMMT-Trace01-50xBF-ZStk-EDF.tif   \n",
       "4  AMB18-02-AMMT-Trace06-50xBF-ZStk-EDF.tif   \n",
       "5  AMB18-02-AMMT-Trace10-50xBF-ZStk-EDF.tif   \n",
       "6  AMB18-02-AMMT-Trace02-50xBF-ZStk-EDF.tif   \n",
       "7  AMB18-02-AMMT-Trace07-50xBF-ZStk-EDF.tif   \n",
       "8  AMB18-02-AMMT-Trace05-50xBF-ZStk-EDF.tif   \n",
       "9  AMB18-02-AMMT-Trace09-50xBF-ZStk-EDF.tif   \n",
       "\n",
       "                                               image track case  \n",
       "0  [[[198, 202, 207], [197, 203, 200], [201, 202,...     8    B  \n",
       "1  [[[180, 186, 195], [185, 181, 197], [185, 181,...     4    C  \n",
       "2  [[[178, 179, 174], [184, 185, 174], [187, 184,...     3    C  \n",
       "3  [[[191, 197, 202], [195, 201, 204], [190, 197,...     1    C  \n",
       "4  [[[198, 199, 201], [196, 200, 201], [193, 193,...     6    A  \n",
       "5  [[[195, 196, 205], [197, 204, 210], [202, 205,...    10    B  \n",
       "6  [[[183, 189, 197], [185, 186, 193], [190, 192,...     2    C  \n",
       "7  [[[196, 199, 199], [197, 204, 201], [199, 204,...     7    A  \n",
       "8  [[[175, 182, 189], [185, 193, 193], [183, 197,...     5    A  \n",
       "9  [[[202, 202, 206], [206, 206, 206], [203, 206,...     9    B  "
      ]
     },
     "execution_count": 5,
     "metadata": {},
     "output_type": "execute_result"
    }
   ],
   "source": [
    "searchphrase='BF' #returns a list of scikit images\n",
    "filename=[]\n",
    "result=[]\n",
    "trace=[]\n",
    "case=[]\n",
    "for index in df.index:\n",
    "    res=xml_url_find(df.iloc[index]['xml_content'],'BF','image/tiff') #giving xml_url_find each xml string and searching for\n",
    "    #tiff files with 'BF' in their name \n",
    "    name=res[0]\n",
    "    url=res[1]\n",
    "    track=res[2]\n",
    "    c=res[3]\n",
    "    if url==None:\n",
    "        continue\n",
    "    else:\n",
    "        filename.append(name)\n",
    "        case.append(c)\n",
    "        result.append(io.imread(url)) #reading in the urls using scikit\n",
    "        trace.append(track)\n",
    "dfres=py.DataFrame({'name':filename,'image':result,'track':trace,'case':case}) #stores images and image names in a dataframe\n",
    "dfres"
   ]
  },
  {
   "cell_type": "markdown",
   "metadata": {},
   "source": [
    "### 2. Image visualization and analysis\n",
    "- using scikit-image to perform image analysis and matplotlib to display images\n",
    "- uses the felzenszwalb image segmentation algorithm to help obtain widths and depths of the melt pools\n",
    "- displays plots of width and depth\n",
    "- stores measurements in a csv file"
   ]
  },
  {
   "cell_type": "code",
   "execution_count": 6,
   "metadata": {},
   "outputs": [],
   "source": [
    "import skimage\n",
    "import numpy as np \n",
    "import matplotlib.pyplot as plt\n",
    "import matplotlib.image as mpimg"
   ]
  },
  {
   "cell_type": "markdown",
   "metadata": {},
   "source": [
    "#### draw_box_opt\n",
    "This method (1) crops the melt pool images (to reduce runtime), (2) applies the felzenszwalb segmentation algorithm to the image, (3) removes smaller regions (eliminate some background noise), (4) acquires a table of center coordinates for the remaining regions, (5) measures the distances from centers to the center of the image, (6) finds the index number of the closest region, (7) returns information about the closes region\n",
    "\n",
    "Parameters:\n",
    "- image to be analyzed\n",
    "\n",
    "Returns:\n",
    "- list of RegionProperties related to the melt pool region"
   ]
  },
  {
   "cell_type": "code",
   "execution_count": 7,
   "metadata": {},
   "outputs": [],
   "source": [
    "from skimage import filters\n",
    "from skimage import segmentation\n",
    "from skimage import morphology\n",
    "from skimage import measure\n",
    "import math\n",
    "def draw_box_opt(image):\n",
    "    cropim=image[900:1800,800:3400] #cropping so that there's less pixels to cover - incredibly slow if left at original size\n",
    "    segments=segmentation.felzenszwalb(cropim,scale=270,sigma=0.8,min_size=1000)\n",
    "    isolateim=morphology.remove_small_objects(segments,100000)\n",
    "    center=measure.regionprops_table(isolateim,properties=['centroid']) #table of information about the center points of regions\n",
    "    distances=[]\n",
    "    for n in range(len(center['centroid-0'])):\n",
    "        distances.append(math.dist([center['centroid-0'][n],center['centroid-1'][n]],[450,1300]))\n",
    "    index=distances.index(min(distances)) #Looking for the region closest to the center of the image - should be the melt pool\n",
    "    object_features=measure.regionprops(isolateim)\n",
    "    return object_features[index] "
   ]
  },
  {
   "cell_type": "code",
   "execution_count": 8,
   "metadata": {},
   "outputs": [],
   "source": [
    "depths=[]\n",
    "widths=[]\n",
    "bboxes=[]\n",
    "for im in dfres['image']:\n",
    "    objf=draw_box_opt(im)\n",
    "    bboxes.append(objf.bbox)\n",
    "    minr,minc,maxr,maxc=objf.bbox #using the bbox drawn around the melt pool to find width and depth\n",
    "    widths.append((maxc-minc)*(0.062)) #using the conversion given in the CDCS comment above the images to convert to mm (1 pixel=0.062 microns)\n",
    "    depths.append((maxr-minr)*(0.062))\n",
    "dat={'width':widths,'depth':depths,'track':trace,'case':case}"
   ]
  },
  {
   "cell_type": "code",
   "execution_count": 9,
   "metadata": {},
   "outputs": [],
   "source": [
    "dfmp=py.DataFrame(dat)"
   ]
  },
  {
   "cell_type": "code",
   "execution_count": 10,
   "metadata": {},
   "outputs": [
    {
     "data": {
      "text/html": [
       "<div>\n",
       "<style scoped>\n",
       "    .dataframe tbody tr th:only-of-type {\n",
       "        vertical-align: middle;\n",
       "    }\n",
       "\n",
       "    .dataframe tbody tr th {\n",
       "        vertical-align: top;\n",
       "    }\n",
       "\n",
       "    .dataframe thead th {\n",
       "        text-align: right;\n",
       "    }\n",
       "</style>\n",
       "<table border=\"1\" class=\"dataframe\">\n",
       "  <thead>\n",
       "    <tr style=\"text-align: right;\">\n",
       "      <th></th>\n",
       "      <th>width</th>\n",
       "      <th>depth</th>\n",
       "      <th>track</th>\n",
       "      <th>case</th>\n",
       "    </tr>\n",
       "  </thead>\n",
       "  <tbody>\n",
       "    <tr>\n",
       "      <th>0</th>\n",
       "      <td>116.002</td>\n",
       "      <td>40.672</td>\n",
       "      <td>8</td>\n",
       "      <td>B</td>\n",
       "    </tr>\n",
       "    <tr>\n",
       "      <th>1</th>\n",
       "      <td>102.238</td>\n",
       "      <td>35.092</td>\n",
       "      <td>4</td>\n",
       "      <td>C</td>\n",
       "    </tr>\n",
       "    <tr>\n",
       "      <th>2</th>\n",
       "      <td>99.200</td>\n",
       "      <td>34.100</td>\n",
       "      <td>3</td>\n",
       "      <td>C</td>\n",
       "    </tr>\n",
       "    <tr>\n",
       "      <th>3</th>\n",
       "      <td>101.246</td>\n",
       "      <td>31.620</td>\n",
       "      <td>1</td>\n",
       "      <td>C</td>\n",
       "    </tr>\n",
       "    <tr>\n",
       "      <th>4</th>\n",
       "      <td>156.612</td>\n",
       "      <td>50.034</td>\n",
       "      <td>6</td>\n",
       "      <td>A</td>\n",
       "    </tr>\n",
       "    <tr>\n",
       "      <th>5</th>\n",
       "      <td>122.946</td>\n",
       "      <td>38.130</td>\n",
       "      <td>10</td>\n",
       "      <td>B</td>\n",
       "    </tr>\n",
       "    <tr>\n",
       "      <th>6</th>\n",
       "      <td>100.936</td>\n",
       "      <td>31.992</td>\n",
       "      <td>2</td>\n",
       "      <td>C</td>\n",
       "    </tr>\n",
       "    <tr>\n",
       "      <th>7</th>\n",
       "      <td>145.948</td>\n",
       "      <td>44.888</td>\n",
       "      <td>7</td>\n",
       "      <td>A</td>\n",
       "    </tr>\n",
       "    <tr>\n",
       "      <th>8</th>\n",
       "      <td>143.406</td>\n",
       "      <td>46.252</td>\n",
       "      <td>5</td>\n",
       "      <td>A</td>\n",
       "    </tr>\n",
       "    <tr>\n",
       "      <th>9</th>\n",
       "      <td>98.766</td>\n",
       "      <td>36.146</td>\n",
       "      <td>9</td>\n",
       "      <td>B</td>\n",
       "    </tr>\n",
       "  </tbody>\n",
       "</table>\n",
       "</div>"
      ],
      "text/plain": [
       "     width   depth track case\n",
       "0  116.002  40.672     8    B\n",
       "1  102.238  35.092     4    C\n",
       "2   99.200  34.100     3    C\n",
       "3  101.246  31.620     1    C\n",
       "4  156.612  50.034     6    A\n",
       "5  122.946  38.130    10    B\n",
       "6  100.936  31.992     2    C\n",
       "7  145.948  44.888     7    A\n",
       "8  143.406  46.252     5    A\n",
       "9   98.766  36.146     9    B"
      ]
     },
     "execution_count": 10,
     "metadata": {},
     "output_type": "execute_result"
    }
   ],
   "source": [
    "dfmp"
   ]
  },
  {
   "cell_type": "markdown",
   "metadata": {},
   "source": [
    "Bar plot of melt pool widths"
   ]
  },
  {
   "cell_type": "code",
   "execution_count": 12,
   "metadata": {},
   "outputs": [
    {
     "data": {
      "text/plain": [
       "<AxesSubplot:xlabel='track'>"
      ]
     },
     "execution_count": 12,
     "metadata": {},
     "output_type": "execute_result"
    },
    {
     "data": {
      "image/png": "[encoded data removed]",
      "text/plain": [
       "<Figure size 432x288 with 1 Axes>"
      ]
     },
     "metadata": {
      "needs_background": "light"
     },
     "output_type": "display_data"
    }
   ],
   "source": [
    "dfmp.plot(y='width',x='track',kind='bar')"
   ]
  },
  {
   "cell_type": "markdown",
   "metadata": {},
   "source": [
    "Bar plot of melt pool depths"
   ]
  },
  {
   "cell_type": "code",
   "execution_count": 13,
   "metadata": {},
   "outputs": [
    {
     "data": {
      "text/plain": [
       "<AxesSubplot:xlabel='track'>"
      ]
     },
     "execution_count": 13,
     "metadata": {},
     "output_type": "execute_result"
    },
    {
     "data": {
      "image/png": "[encoded data removed]",
      "text/plain": [
       "<Figure size 432x288 with 1 Axes>"
      ]
     },
     "metadata": {
      "needs_background": "light"
     },
     "output_type": "display_data"
    }
   ],
   "source": [
    "dfmp.plot(y='depth',x='track',kind='bar')"
   ]
  },
  {
   "cell_type": "markdown",
   "metadata": {},
   "source": [
    "Example of what the image looks like with the bbox marked"
   ]
  },
  {
   "cell_type": "code",
   "execution_count": 14,
   "metadata": {},
   "outputs": [
    {
     "data": {
      "image/png": "[encoded data removed]",
      "text/plain": [
       "<Figure size 432x288 with 1 Axes>"
      ]
     },
     "metadata": {
      "needs_background": "light"
     },
     "output_type": "display_data"
    }
   ],
   "source": [
    "fig, ax = plt.subplots()\n",
    "minr,minc,maxr,maxc=bboxes[4]\n",
    "ax.imshow(result[4][900:1800,800:3400])\n",
    "bx = (minc, maxc, maxc, minc, minc)\n",
    "by = (minr, minr, maxr, maxr, minr)\n",
    "ax.plot(bx, by, '-b', linewidth=2.5)\n",
    "plt.show()"
   ]
  },
  {
   "cell_type": "markdown",
   "metadata": {},
   "source": [
    "Putting the calculated measurements into a csv file and saving it"
   ]
  },
  {
   "cell_type": "code",
   "execution_count": 15,
   "metadata": {},
   "outputs": [],
   "source": [
    "dfmp.to_csv('MP_measurements.csv',index=False)"
   ]
  },
  {
   "cell_type": "code",
   "execution_count": null,
   "metadata": {},
   "outputs": [],
   "source": []
  }
 ],
 "metadata": {
  "kernelspec": {
   "display_name": "Python 3.8 (py38)",
   "language": "python",
   "name": "py38"
  },
  "language_info": {
   "codemirror_mode": {
    "name": "ipython",
    "version": 3
   },
   "file_extension": ".py",
   "mimetype": "text/x-python",
   "name": "python",
   "nbconvert_exporter": "python",
   "pygments_lexer": "ipython3",
   "version": "3.8.5"
  }
 },
 "nbformat": 4,
 "nbformat_minor": 4
}
